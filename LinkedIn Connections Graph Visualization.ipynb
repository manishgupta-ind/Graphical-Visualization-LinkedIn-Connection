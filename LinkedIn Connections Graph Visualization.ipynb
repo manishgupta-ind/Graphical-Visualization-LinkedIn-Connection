{
 "cells": [
  {
   "cell_type": "markdown",
   "metadata": {},
   "source": [
    "We all use LinkedIn to make connections with professionals in our industry or even from any other industry too. On LinkedIn, we see only a list of our connections, so it’s hard to visualize the entire network of your connections. I tried to apply my python skill in Data Science to explore my connections on  LinkedIn and find out some interesting information and visualize it in the form of graph. \n",
    "\n",
    "Graphs are one of the most important data structures that is applied in many real-world solutions. One of them is social networks. This really looks exciting. We will be creating a network that connects you to all the companies from your connections."
   ]
  },
  {
   "cell_type": "markdown",
   "metadata": {},
   "source": [
    "### Download data:\n",
    "Here’s a step-by-step guide for getting a copy of your data on LinkedIn:\n",
    "- Click on your Me drop down in the homepage\n",
    "- Head over to “Settings & Privacy”\n",
    "- Click on “Get a copy of your data”\n",
    "\n",
    "Check connections only, and hit “Request archive”. After a few minutes, you should get the archive file in your email."
   ]
  },
  {
   "cell_type": "code",
   "execution_count": 1,
   "metadata": {
    "colab": {
     "base_uri": "https://localhost:8080/"
    },
    "id": "gN3Fjp6KObV5",
    "outputId": "468a8e51-7904-414c-87ae-9c2f7f9bb37c"
   },
   "outputs": [],
   "source": [
    "!pip install pyjanitor pyvis --quiet"
   ]
  },
  {
   "cell_type": "code",
   "execution_count": 2,
   "metadata": {
    "id": "lH5IecBqDOph"
   },
   "outputs": [],
   "source": [
    "import pandas as pd\n",
    "import datetime\n",
    "import janitor                                     # Clean APIs for data cleaning. Python implementation of R package Janitor\n",
    "from pyvis import network as net                   # Visualizing network graph\n",
    "import networkx as nx                              # Create network graph with Python\n",
    "from IPython.core.display import display, HTML"
   ]
  },
  {
   "cell_type": "code",
   "execution_count": 3,
   "metadata": {
    "id": "33lkTwstLzko"
   },
   "outputs": [],
   "source": [
    "connection_data = pd.read_csv(\"Connections.csv\", skiprows=3)"
   ]
  },
  {
   "cell_type": "code",
   "execution_count": 4,
   "metadata": {
    "colab": {
     "base_uri": "https://localhost:8080/"
    },
    "id": "SpND_DCtMoA1",
    "outputId": "b7774a3d-fa5b-4b24-d851-f75385ba1a75"
   },
   "outputs": [
    {
     "name": "stdout",
     "output_type": "stream",
     "text": [
      "<class 'pandas.core.frame.DataFrame'>\n",
      "RangeIndex: 3337 entries, 0 to 3336\n",
      "Data columns (total 6 columns):\n",
      " #   Column         Non-Null Count  Dtype \n",
      "---  ------         --------------  ----- \n",
      " 0   First Name     3160 non-null   object\n",
      " 1   Last Name      3160 non-null   object\n",
      " 2   Email Address  92 non-null     object\n",
      " 3   Company        3050 non-null   object\n",
      " 4   Position       3075 non-null   object\n",
      " 5   Connected On   3337 non-null   object\n",
      "dtypes: object(6)\n",
      "memory usage: 156.5+ KB\n"
     ]
    }
   ],
   "source": [
    "connection_data.info()"
   ]
  },
  {
   "cell_type": "markdown",
   "metadata": {
    "id": "voEgd2d3Trfv"
   },
   "source": [
    "## Data Cleaning"
   ]
  },
  {
   "cell_type": "code",
   "execution_count": 5,
   "metadata": {
    "colab": {
     "base_uri": "https://localhost:8080/",
     "height": 204
    },
    "id": "MVkni_nRMv-R",
    "outputId": "f9a64fc8-263b-47bc-dcbb-e94efcb54c04"
   },
   "outputs": [
    {
     "data": {
      "text/html": [
       "<div>\n",
       "<style scoped>\n",
       "    .dataframe tbody tr th:only-of-type {\n",
       "        vertical-align: middle;\n",
       "    }\n",
       "\n",
       "    .dataframe tbody tr th {\n",
       "        vertical-align: top;\n",
       "    }\n",
       "\n",
       "    .dataframe thead th {\n",
       "        text-align: right;\n",
       "    }\n",
       "</style>\n",
       "<table border=\"1\" class=\"dataframe\">\n",
       "  <thead>\n",
       "    <tr style=\"text-align: right;\">\n",
       "      <th></th>\n",
       "      <th>company</th>\n",
       "      <th>position</th>\n",
       "      <th>connected_on</th>\n",
       "    </tr>\n",
       "  </thead>\n",
       "  <tbody>\n",
       "    <tr>\n",
       "      <th>0</th>\n",
       "      <td>Factspan Inc.</td>\n",
       "      <td>Senior Director Talent Acquisition</td>\n",
       "      <td>2021-11-09</td>\n",
       "    </tr>\n",
       "    <tr>\n",
       "      <th>1</th>\n",
       "      <td>eureQa, LLC</td>\n",
       "      <td>Manager Human Resources</td>\n",
       "      <td>2021-11-09</td>\n",
       "    </tr>\n",
       "    <tr>\n",
       "      <th>2</th>\n",
       "      <td>Siemens Limited. Energy Sector</td>\n",
       "      <td>Manager</td>\n",
       "      <td>2021-11-07</td>\n",
       "    </tr>\n",
       "    <tr>\n",
       "      <th>3</th>\n",
       "      <td>Verisk</td>\n",
       "      <td>Senior Data Scientist-I</td>\n",
       "      <td>2021-11-04</td>\n",
       "    </tr>\n",
       "    <tr>\n",
       "      <th>4</th>\n",
       "      <td>Entropik Tech</td>\n",
       "      <td>Human Resources Manager</td>\n",
       "      <td>2021-11-03</td>\n",
       "    </tr>\n",
       "  </tbody>\n",
       "</table>\n",
       "</div>"
      ],
      "text/plain": [
       "                          company                            position  \\\n",
       "0                   Factspan Inc.  Senior Director Talent Acquisition   \n",
       "1                     eureQa, LLC             Manager Human Resources   \n",
       "2  Siemens Limited. Energy Sector                             Manager   \n",
       "3                          Verisk             Senior Data Scientist-I   \n",
       "4                   Entropik Tech             Human Resources Manager   \n",
       "\n",
       "  connected_on  \n",
       "0   2021-11-09  \n",
       "1   2021-11-09  \n",
       "2   2021-11-07  \n",
       "3   2021-11-04  \n",
       "4   2021-11-03  "
      ]
     },
     "execution_count": 5,
     "metadata": {},
     "output_type": "execute_result"
    }
   ],
   "source": [
    "df = (\n",
    "    connection_data\n",
    "    .clean_names()                                              # remove spacing and capitalization\n",
    "    .drop(columns=['first_name', 'last_name', 'email_address']) # drop for privacy\n",
    "    .dropna(subset=['company', 'position'])                     # drop missing values in company and position\n",
    "    .to_datetime('connected_on', format='%d %b %Y')\n",
    "  )\n",
    "df.head()"
   ]
  },
  {
   "cell_type": "markdown",
   "metadata": {
    "id": "CMQaXatyTtPt"
   },
   "source": [
    "## Simple EDA"
   ]
  },
  {
   "cell_type": "code",
   "execution_count": 6,
   "metadata": {
    "colab": {
     "base_uri": "https://localhost:8080/",
     "height": 281
    },
    "id": "PlU3kryoOz45",
    "outputId": "42f13012-7cd4-4fe0-d923-bf2d36631eca"
   },
   "outputs": [
    {
     "data": {
      "image/png": "[encoded data removed]",
      "text/plain": [
       "<Figure size 432x288 with 1 Axes>"
      ]
     },
     "metadata": {
      "needs_background": "light"
     },
     "output_type": "display_data"
    }
   ],
   "source": [
    "df['company'].value_counts().head(10).plot(kind=\"barh\", title= \"Top 10 companies of my connections\").invert_yaxis(); "
   ]
  },
  {
   "cell_type": "code",
   "execution_count": 7,
   "metadata": {
    "colab": {
     "base_uri": "https://localhost:8080/",
     "height": 281
    },
    "id": "Fx28C8GRTw9b",
    "outputId": "48f9eb81-bddb-41ef-bac8-ea34fbe07c93"
   },
   "outputs": [
    {
     "data": {
      "image/png": "[encoded data removed]",
      "text/plain": [
       "<Figure size 432x288 with 1 Axes>"
      ]
     },
     "metadata": {
      "needs_background": "light"
     },
     "output_type": "display_data"
    }
   ],
   "source": [
    "df['position'].value_counts().head(10).plot(kind=\"barh\", title= \"Top 10 positions for my connections\").invert_yaxis();"
   ]
  },
  {
   "cell_type": "code",
   "execution_count": 8,
   "metadata": {
    "colab": {
     "base_uri": "https://localhost:8080/",
     "height": 278
    },
    "id": "VI8kbxToH93o",
    "outputId": "b6642ee2-d524-4e1a-e9a7-9acf759e7d02"
   },
   "outputs": [
    {
     "data": {
      "image/png": "[encoded data removed]",
      "text/plain": [
       "<Figure size 432x288 with 1 Axes>"
      ]
     },
     "metadata": {
      "needs_background": "light"
     },
     "output_type": "display_data"
    }
   ],
   "source": [
    "df['connected_on'].hist(xrot=35, bins=15);"
   ]
  },
  {
   "cell_type": "markdown",
   "metadata": {
    "id": "pn1BvxBLNg_7"
   },
   "source": [
    "### Remove Self-employed, Confidential like entries:\n",
    "Notice there is a “Self-employed” category in our company column, digging more into the data we will see that there are many more such entries which are not actual company name. We’ll be removing that for the sake of only having company names."
   ]
  },
  {
   "cell_type": "code",
   "execution_count": 9,
   "metadata": {
    "id": "PsbXoM2FNjvY"
   },
   "outputs": [],
   "source": [
    "pattern = \"freelance|self-employed|Self employed|Confidential\"\n",
    "df = df[~df['company'].str.contains(pattern, case=False)]"
   ]
  },
  {
   "cell_type": "markdown",
   "metadata": {
    "id": "_WucGhMNmEHt"
   },
   "source": [
    "## Aggregate sum of connections for companies"
   ]
  },
  {
   "cell_type": "code",
   "execution_count": 10,
   "metadata": {
    "colab": {
     "base_uri": "https://localhost:8080/",
     "height": 359
    },
    "id": "-6fXxpGW8xO8",
    "outputId": "b8843cf6-8d39-49f7-b6a7-2b2b74d969d4"
   },
   "outputs": [
    {
     "data": {
      "text/html": [
       "<div>\n",
       "<style scoped>\n",
       "    .dataframe tbody tr th:only-of-type {\n",
       "        vertical-align: middle;\n",
       "    }\n",
       "\n",
       "    .dataframe tbody tr th {\n",
       "        vertical-align: top;\n",
       "    }\n",
       "\n",
       "    .dataframe thead th {\n",
       "        text-align: right;\n",
       "    }\n",
       "</style>\n",
       "<table border=\"1\" class=\"dataframe\">\n",
       "  <thead>\n",
       "    <tr style=\"text-align: right;\">\n",
       "      <th></th>\n",
       "      <th>company</th>\n",
       "      <th>count</th>\n",
       "    </tr>\n",
       "  </thead>\n",
       "  <tbody>\n",
       "    <tr>\n",
       "      <th>0</th>\n",
       "      <td>KEC International Ltd.</td>\n",
       "      <td>44</td>\n",
       "    </tr>\n",
       "    <tr>\n",
       "      <th>1</th>\n",
       "      <td>Larsen &amp; Toubro</td>\n",
       "      <td>21</td>\n",
       "    </tr>\n",
       "    <tr>\n",
       "      <th>2</th>\n",
       "      <td>KALPATARU POWER TRANSMISSION LIMITED</td>\n",
       "      <td>19</td>\n",
       "    </tr>\n",
       "    <tr>\n",
       "      <th>3</th>\n",
       "      <td>GEPDEC INFRATECH LIMITED</td>\n",
       "      <td>16</td>\n",
       "    </tr>\n",
       "    <tr>\n",
       "      <th>4</th>\n",
       "      <td>Tata Projects</td>\n",
       "      <td>13</td>\n",
       "    </tr>\n",
       "    <tr>\n",
       "      <th>5</th>\n",
       "      <td>Skipper Electrical (India) Ltd.</td>\n",
       "      <td>13</td>\n",
       "    </tr>\n",
       "    <tr>\n",
       "      <th>6</th>\n",
       "      <td>Schneider Electric</td>\n",
       "      <td>12</td>\n",
       "    </tr>\n",
       "    <tr>\n",
       "      <th>7</th>\n",
       "      <td>Hitachi Energy</td>\n",
       "      <td>9</td>\n",
       "    </tr>\n",
       "    <tr>\n",
       "      <th>8</th>\n",
       "      <td>Tata Consultancy Services</td>\n",
       "      <td>8</td>\n",
       "    </tr>\n",
       "    <tr>\n",
       "      <th>9</th>\n",
       "      <td>Sterlite Power</td>\n",
       "      <td>8</td>\n",
       "    </tr>\n",
       "  </tbody>\n",
       "</table>\n",
       "</div>"
      ],
      "text/plain": [
       "                                company  count\n",
       "0                KEC International Ltd.     44\n",
       "1                       Larsen & Toubro     21\n",
       "2  KALPATARU POWER TRANSMISSION LIMITED     19\n",
       "3              GEPDEC INFRATECH LIMITED     16\n",
       "4                         Tata Projects     13\n",
       "5       Skipper Electrical (India) Ltd.     13\n",
       "6                    Schneider Electric     12\n",
       "7                        Hitachi Energy      9\n",
       "8             Tata Consultancy Services      8\n",
       "9                        Sterlite Power      8"
      ]
     },
     "execution_count": 10,
     "metadata": {},
     "output_type": "execute_result"
    }
   ],
   "source": [
    "df_company = df['company'].value_counts().reset_index()\n",
    "df_company.columns = ['company', 'count']\n",
    "df_company = df_company.sort_values(by=\"count\", ascending=False)\n",
    "df_company.head(10)"
   ]
  },
  {
   "cell_type": "markdown",
   "metadata": {
    "id": "vqGvIq2smGwM"
   },
   "source": [
    "## Aggregate sum of connections for positions"
   ]
  },
  {
   "cell_type": "code",
   "execution_count": 11,
   "metadata": {
    "colab": {
     "base_uri": "https://localhost:8080/",
     "height": 359
    },
    "id": "50py-HYK9rZF",
    "outputId": "e0a36562-ab65-448b-a915-61a2c7b8cf87"
   },
   "outputs": [
    {
     "data": {
      "text/html": [
       "<div>\n",
       "<style scoped>\n",
       "    .dataframe tbody tr th:only-of-type {\n",
       "        vertical-align: middle;\n",
       "    }\n",
       "\n",
       "    .dataframe tbody tr th {\n",
       "        vertical-align: top;\n",
       "    }\n",
       "\n",
       "    .dataframe thead th {\n",
       "        text-align: right;\n",
       "    }\n",
       "</style>\n",
       "<table border=\"1\" class=\"dataframe\">\n",
       "  <thead>\n",
       "    <tr style=\"text-align: right;\">\n",
       "      <th></th>\n",
       "      <th>position</th>\n",
       "      <th>count</th>\n",
       "    </tr>\n",
       "  </thead>\n",
       "  <tbody>\n",
       "    <tr>\n",
       "      <th>0</th>\n",
       "      <td>Director</td>\n",
       "      <td>67</td>\n",
       "    </tr>\n",
       "    <tr>\n",
       "      <th>1</th>\n",
       "      <td>Managing Director</td>\n",
       "      <td>60</td>\n",
       "    </tr>\n",
       "    <tr>\n",
       "      <th>2</th>\n",
       "      <td>Assistant Manager</td>\n",
       "      <td>44</td>\n",
       "    </tr>\n",
       "    <tr>\n",
       "      <th>3</th>\n",
       "      <td>Owner</td>\n",
       "      <td>42</td>\n",
       "    </tr>\n",
       "    <tr>\n",
       "      <th>4</th>\n",
       "      <td>Manager</td>\n",
       "      <td>32</td>\n",
       "    </tr>\n",
       "    <tr>\n",
       "      <th>5</th>\n",
       "      <td>Deputy Manager</td>\n",
       "      <td>24</td>\n",
       "    </tr>\n",
       "    <tr>\n",
       "      <th>6</th>\n",
       "      <td>Founder</td>\n",
       "      <td>24</td>\n",
       "    </tr>\n",
       "    <tr>\n",
       "      <th>7</th>\n",
       "      <td>Electrical Engineer</td>\n",
       "      <td>23</td>\n",
       "    </tr>\n",
       "    <tr>\n",
       "      <th>8</th>\n",
       "      <td>Sales Manager</td>\n",
       "      <td>23</td>\n",
       "    </tr>\n",
       "    <tr>\n",
       "      <th>9</th>\n",
       "      <td>Project Engineer</td>\n",
       "      <td>21</td>\n",
       "    </tr>\n",
       "  </tbody>\n",
       "</table>\n",
       "</div>"
      ],
      "text/plain": [
       "              position  count\n",
       "0             Director     67\n",
       "1    Managing Director     60\n",
       "2    Assistant Manager     44\n",
       "3                Owner     42\n",
       "4              Manager     32\n",
       "5       Deputy Manager     24\n",
       "6              Founder     24\n",
       "7  Electrical Engineer     23\n",
       "8        Sales Manager     23\n",
       "9     Project Engineer     21"
      ]
     },
     "execution_count": 11,
     "metadata": {},
     "output_type": "execute_result"
    }
   ],
   "source": [
    "df_position = df['position'].value_counts().reset_index()\n",
    "df_position.columns = ['position', 'count']\n",
    "df_position = df_position.sort_values(by=\"count\", ascending=False)\n",
    "df_position.head(10)"
   ]
  },
  {
   "cell_type": "markdown",
   "metadata": {
    "id": "cEDZCSYQ_io0"
   },
   "source": [
    "### Creating the network\n",
    "Before we create our LinkedIn network, let’s start small, and figure out how PyVis and networkX work."
   ]
  },
  {
   "cell_type": "markdown",
   "metadata": {
    "id": "HegQGiSyAOLz"
   },
   "source": [
    "### Example of simple network"
   ]
  },
  {
   "cell_type": "code",
   "execution_count": 12,
   "metadata": {
    "colab": {
     "base_uri": "https://localhost:8080/",
     "height": 538
    },
    "id": "yobPAERdAJ0Y",
    "outputId": "1cb998c8-89c3-4be3-96c1-7f1a2574eeff"
   },
   "outputs": [
    {
     "data": {
      "text/html": [
       "<html>\n",
       "<head>\n",
       "<link rel=\"stylesheet\" href=\"https://cdnjs.cloudflare.com/ajax/libs/vis/4.16.1/vis.css\" type=\"text/css\" />\n",
       "<script type=\"text/javascript\" src=\"https://cdnjs.cloudflare.com/ajax/libs/vis/4.16.1/vis-network.min.js\"> </script>\n",
       "<center>\n",
       "<h1></h1>\n",
       "</center>\n",
       "\n",
       "<!-- <link rel=\"stylesheet\" href=\"../node_modules/vis/dist/vis.min.css\" type=\"text/css\" />\n",
       "<script type=\"text/javascript\" src=\"../node_modules/vis/dist/vis.js\"> </script>-->\n",
       "\n",
       "<style type=\"text/css\">\n",
       "\n",
       "        #mynetwork {\n",
       "            width: 500px;\n",
       "            height: 500px;\n",
       "            background-color: #ffffff;\n",
       "            border: 1px solid lightgray;\n",
       "            position: relative;\n",
       "            float: left;\n",
       "        }\n",
       "\n",
       "        \n",
       "\n",
       "        \n",
       "\n",
       "        \n",
       "</style>\n",
       "\n",
       "</head>\n",
       "\n",
       "<body>\n",
       "<div id = \"mynetwork\"></div>\n",
       "\n",
       "\n",
       "<script type=\"text/javascript\">\n",
       "\n",
       "    // initialize global variables.\n",
       "    var edges;\n",
       "    var nodes;\n",
       "    var network; \n",
       "    var container;\n",
       "    var options, data;\n",
       "\n",
       "    \n",
       "    // This method is responsible for drawing the graph, returns the drawn network\n",
       "    function drawGraph() {\n",
       "        var container = document.getElementById('mynetwork');\n",
       "        \n",
       "        \n",
       "\n",
       "        // parsing and collecting nodes and edges from the python\n",
       "        nodes = new vis.DataSet([{\"id\": 0, \"label\": \"root\", \"shape\": \"dot\", \"size\": 10}, {\"id\": 1, \"label\": \"Company 1\", \"shape\": \"dot\", \"size\": 10, \"title\": \"info1\"}, {\"id\": 2, \"label\": \"Company 2\", \"shape\": \"dot\", \"size\": 40, \"title\": \"info2\"}, {\"id\": 3, \"label\": \"Company 3\", \"shape\": \"dot\", \"size\": 60, \"title\": \"info3\"}]);\n",
       "        edges = new vis.DataSet([{\"from\": 0, \"to\": 1, \"weight\": 1}, {\"from\": 0, \"to\": 2, \"weight\": 1}, {\"from\": 0, \"to\": 3, \"weight\": 1}]);\n",
       "\n",
       "        // adding nodes and edges to the graph\n",
       "        data = {nodes: nodes, edges: edges};\n",
       "\n",
       "        var options = {\n",
       "    \"configure\": {\n",
       "        \"enabled\": false\n",
       "    },\n",
       "    \"edges\": {\n",
       "        \"color\": {\n",
       "            \"inherit\": true\n",
       "        },\n",
       "        \"smooth\": {\n",
       "            \"enabled\": false,\n",
       "            \"type\": \"continuous\"\n",
       "        }\n",
       "    },\n",
       "    \"interaction\": {\n",
       "        \"dragNodes\": true,\n",
       "        \"hideEdgesOnDrag\": false,\n",
       "        \"hideNodesOnDrag\": false\n",
       "    },\n",
       "    \"physics\": {\n",
       "        \"enabled\": true,\n",
       "        \"stabilization\": {\n",
       "            \"enabled\": true,\n",
       "            \"fit\": true,\n",
       "            \"iterations\": 1000,\n",
       "            \"onlyDynamicEdges\": false,\n",
       "            \"updateInterval\": 50\n",
       "        }\n",
       "    }\n",
       "};\n",
       "        \n",
       "        \n",
       "\n",
       "        \n",
       "\n",
       "        network = new vis.Network(container, data, options);\n",
       "\t \n",
       "        \n",
       "\n",
       "\n",
       "        \n",
       "\n",
       "        return network;\n",
       "\n",
       "    }\n",
       "\n",
       "    drawGraph();\n",
       "\n",
       "</script>\n",
       "</body>\n",
       "</html>"
      ],
      "text/plain": [
       "<IPython.core.display.HTML object>"
      ]
     },
     "metadata": {},
     "output_type": "display_data"
    }
   ],
   "source": [
    "nt = net.Network(notebook=True)\n",
    "\n",
    "g = nx.Graph()\n",
    "g.add_node(0, label = \"root\") # intialize yourself as central node\n",
    "g.add_node(1, label = \"Company 1\", size=10, title=\"info1\")\n",
    "g.add_node(2, label = \"Company 2\", size=40, title=\"info2\")\n",
    "g.add_node(3, label = \"Company 3\", size=60, title=\"info3\")\n",
    "g.add_edge(0, 1)\n",
    "g.add_edge(0, 2)\n",
    "g.add_edge(0, 3)\n",
    "\n",
    "nt.from_nx(g)\n",
    "nt.show('nodes.html')\n",
    "display(HTML('nodes.html'))"
   ]
  },
  {
   "cell_type": "markdown",
   "metadata": {},
   "source": [
    "First we create our network class which takes in a graph object in the end, and then save the network as a html.\n",
    "\n",
    "To form our graph, we construct it with the Graph class, and then add nodes to it. The add_node function takes in a couple arguments. The number at the start are unique id’s, this allows us to connect them later on. We can also use the labels as ID’s as long as they are unique.\n",
    "\n",
    "We can control the size by assigning integer values to the argument, and the title argument stands for the hover info.\n",
    "Try clicking on one of the nodes, and hover over it. We can see that the strings we pass in is displayed!"
   ]
  },
  {
   "cell_type": "code",
   "execution_count": 13,
   "metadata": {
    "colab": {
     "base_uri": "https://localhost:8080/"
    },
    "id": "E4yoeKnnE1zA",
    "outputId": "a6628dc9-3456-4569-e712-1fc71a067fa8"
   },
   "outputs": [
    {
     "name": "stdout",
     "output_type": "stream",
     "text": [
      "number of nodes: 4\n",
      "number of edges: 3\n"
     ]
    }
   ],
   "source": [
    "print(f\"number of nodes: {g.number_of_nodes()}\")\n",
    "print(f\"number of edges: {g.number_of_edges()}\")"
   ]
  },
  {
   "cell_type": "markdown",
   "metadata": {},
   "source": [
    "After we have our graphs, we can also get properties like number of nodes and edges."
   ]
  },
  {
   "cell_type": "code",
   "execution_count": 17,
   "metadata": {
    "colab": {
     "base_uri": "https://localhost:8080/"
    },
    "id": "UH4nj-TlHDNG",
    "outputId": "9b6806bf-9d67-43c3-bd64-40be9565fdf0"
   },
   "outputs": [
    {
     "name": "stdout",
     "output_type": "stream",
     "text": [
      "KEC International Ltd.-44\n",
      "Larsen & Toubro-21\n",
      "KALPATARU POWER TRANSMISSION LIMITED-19\n",
      "GEPDEC INFRATECH LIMITED-16\n",
      "Tata Projects-13\n"
     ]
    }
   ],
   "source": [
    "for i, row in df_company.head(5).iterrows():\n",
    "  print(row['company'] + \"-\" + str(row['count']))"
   ]
  },
  {
   "cell_type": "markdown",
   "metadata": {},
   "source": [
    "### Reduce size of nodes:\n",
    "Currently we have almost 2600 companies and over 2000 positions, that would make our network incredible large and slow down the visualization. To prevent that, we filter them down to counts of over 3 for company and 5 for position."
   ]
  },
  {
   "cell_type": "code",
   "execution_count": 14,
   "metadata": {
    "colab": {
     "base_uri": "https://localhost:8080/"
    },
    "id": "YgZU7rbSKvI2",
    "outputId": "e541afdb-74e4-4c69-b74c-7061de7bff26"
   },
   "outputs": [
    {
     "name": "stdout",
     "output_type": "stream",
     "text": [
      "(2582, 2)\n",
      "(58, 2)\n"
     ]
    }
   ],
   "source": [
    "print(df_company.shape)\n",
    "df_company_reduced = df_company.loc[df_company['count']>=3]\n",
    "print(df_company_reduced.shape)"
   ]
  },
  {
   "cell_type": "code",
   "execution_count": 15,
   "metadata": {
    "colab": {
     "base_uri": "https://localhost:8080/"
    },
    "id": "BE5s2LKQQ_rv",
    "outputId": "4a0d23e9-ce31-4f53-d57b-28d009e8a124"
   },
   "outputs": [
    {
     "name": "stdout",
     "output_type": "stream",
     "text": [
      "(2014, 2)\n",
      "(56, 2)\n"
     ]
    }
   ],
   "source": [
    "print(df_position.shape)\n",
    "df_position_reduced = df_position.loc[df_position['count']>=5]\n",
    "print(df_position_reduced.shape)"
   ]
  },
  {
   "cell_type": "markdown",
   "metadata": {},
   "source": [
    "### Creating network for connections:"
   ]
  },
  {
   "cell_type": "code",
   "execution_count": 16,
   "metadata": {
    "colab": {
     "base_uri": "https://localhost:8080/",
     "height": 838
    },
    "id": "hlh6V25599xI",
    "outputId": "b796e4fb-a24b-48c0-bc0e-26b899a9641a"
   },
   "outputs": [
    {
     "data": {
      "text/html": [
       "<html>\n",
       "<head>\n",
       "<link rel=\"stylesheet\" href=\"https://cdnjs.cloudflare.com/ajax/libs/vis/4.16.1/vis.css\" type=\"text/css\" />\n",
       "<script type=\"text/javascript\" src=\"https://cdnjs.cloudflare.com/ajax/libs/vis/4.16.1/vis-network.min.js\"> </script>\n",
       "<center>\n",
       "<h1></h1>\n",
       "</center>\n",
       "\n",
       "<!-- <link rel=\"stylesheet\" href=\"../node_modules/vis/dist/vis.min.css\" type=\"text/css\" />\n",
       "<script type=\"text/javascript\" src=\"../node_modules/vis/dist/vis.js\"> </script>-->\n",
       "\n",
       "<style type=\"text/css\">\n",
       "\n",
       "        #mynetwork {\n",
       "            width: 1100px;\n",
       "            height: 800px;\n",
       "            background-color: black;\n",
       "            border: 1px solid lightgray;\n",
       "            position: relative;\n",
       "            float: left;\n",
       "        }\n",
       "\n",
       "        \n",
       "\n",
       "        \n",
       "\n",
       "        \n",
       "</style>\n",
       "\n",
       "</head>\n",
       "\n",
       "<body>\n",
       "<div id = \"mynetwork\"></div>\n",
       "\n",
       "\n",
       "<script type=\"text/javascript\">\n",
       "\n",
       "    // initialize global variables.\n",
       "    var edges;\n",
       "    var nodes;\n",
       "    var network; \n",
       "    var container;\n",
       "    var options, data;\n",
       "\n",
       "    \n",
       "    // This method is responsible for drawing the graph, returns the drawn network\n",
       "    function drawGraph() {\n",
       "        var container = document.getElementById('mynetwork');\n",
       "        \n",
       "        \n",
       "\n",
       "        // parsing and collecting nodes and edges from the python\n",
       "        nodes = new vis.DataSet([{\"font\": {\"color\": \"white\"}, \"id\": \"root\", \"label\": \"root\", \"shape\": \"dot\", \"size\": 10}, {\"color\": \"#3449eb\", \"font\": {\"color\": \"white\"}, \"id\": \"KEC International Ltd.\", \"label\": \"KEC International Ltd.\", \"shape\": \"dot\", \"size\": 88, \"title\": \"\\u003cb\\u003eKEC International Ltd. \\u2013 44 connections\\u003c/b\\u003e\\u003cul\\u003e\\u003cli\\u003eEngineer at Railway OHE (PSI)Project SP, SSP \\u0026 TSS \\u003c/li\\u003e\\u003cli\\u003eOfficer\\u003c/li\\u003e\\u003cli\\u003eMANAGING DIRECTOR \\u0026 CEO\\u003c/li\\u003e\\u003cli\\u003eEngineer S\\u0026T \\u003c/li\\u003e\\u003cli\\u003eENGINEER- PROJECTS\\u003c/li\\u003e\\u003cli\\u003eSenior QA/QC Engineer\\u003c/li\\u003e\\u003cli\\u003eExecutive\\u003c/li\\u003e\\u003cli\\u003eManager Planning \\u0026 Coordination\\u003c/li\\u003e\\u003cli\\u003eProcurement Manager\\u003c/li\\u003e\\u003cli\\u003eProject Execution || QAQC\\u003c/li\\u003e\\u003cli\\u003eProject Quality Engineer\\u003c/li\\u003e\\u003cli\\u003eSupply Chain Manager\\u003c/li\\u003e\\u003cli\\u003eSenior Transmission Engineer\\u003c/li\\u003e\\u003cli\\u003eChief Manager - M\\u0026BD SA T\\u0026D\\u003c/li\\u003e\\u003cli\\u003eManaging Director \\u0026 CEO\\u003c/li\\u003e\\u003cli\\u003eManager- Planning \\u0026 Coordination (Africa)\\u003c/li\\u003e\\u003cli\\u003eCivil Engineer\\u003c/li\\u003e\\u003cli\\u003eManager\\u003c/li\\u003e\\u003cli\\u003eProject Manager\\u003c/li\\u003e\\u003cli\\u003eEngineer (Projects)\\u003c/li\\u003e\\u003cli\\u003eAssistant Manager Engineering Services For Power Transmission \\u0026 Distribution \\u003c/li\\u003e\\u003cli\\u003eQuality Engineer\\u003c/li\\u003e\\u003cli\\u003eSVP - Finance and Chief Executive - Oil and Gas Pipelines Business\\u003c/li\\u003e\\u003cli\\u003eAS A CHIEF MANAGER-PROJECTS\\u003c/li\\u003e\\u003cli\\u003eVice President BD, T\\u0026D (South Asia)\\u003c/li\\u003e\\u003cli\\u003eSiganlling and telecomm engineer\\u003c/li\\u003e\\u003cli\\u003eChief Manager Marketing and BD \\u003c/li\\u003e\\u003cli\\u003eManager - Marketing \\u0026 Business Development\\u003c/li\\u003e\\u003cli\\u003eProject Management, M\\u0026BD\\u003c/li\\u003e\\u003cli\\u003eAssistant Manager\\u003c/li\\u003e\\u003cli\\u003eContract Management Professional\\u003c/li\\u003e\\u003cli\\u003eProject Electrical Engineer\\u003c/li\\u003e\\u003cli\\u003e Procurement and Supply Chain - Solar EPC\\u003c/li\\u003e\\u003cli\\u003eTechnical Supervisor\\u003c/li\\u003e\\u003cli\\u003eSr Manager (Marketing \\u0026BD)\\u003c/li\\u003e\\u003cli\\u003ePlanning\\u003c/li\\u003e\\u003cli\\u003eManager (M2) - Marketing \\u0026 Business Development,  Rail BU\\u003c/li\\u003e\\u003cli\\u003eOHE Railway Project Store Operation\\u003c/li\\u003e\\u003cli\\u003eSr Manager (Marketing and Business Development)\\u003c/li\\u003e\\u003cli\\u003e*\\u003c/li\\u003e\\u003cli\\u003eSr. Manager- Technical\\u003c/li\\u003e\\u003cli\\u003eProject Planning Engineer\\u003c/li\\u003e\\u003cli\\u003eDocument Controller\\u003c/li\\u003e\\u003c/ul\\u003e\"}, {\"color\": \"#3449eb\", \"font\": {\"color\": \"white\"}, \"id\": \"Larsen \\u0026 Toubro\", \"label\": \"Larsen \\u0026 Toubro\", \"shape\": \"dot\", \"size\": 42, \"title\": \"\\u003cb\\u003eLarsen \\u0026 Toubro \\u2013 21 connections\\u003c/b\\u003e\\u003cul\\u003e\\u003cli\\u003eManager - HR - Gujarat - (Water \\u0026 Effluent Treatment IC) \\u003c/li\\u003e\\u003cli\\u003eSenior Civil Engineer\\u003c/li\\u003e\\u003cli\\u003eCommercial Sales Consultant\\u003c/li\\u003e\\u003cli\\u003eProject Contracts \\u0026 Planning Manager\\u003c/li\\u003e\\u003cli\\u003eProject Manager\\u003c/li\\u003e\\u003cli\\u003eAssistant Manager accounts\\u003c/li\\u003e\\u003cli\\u003eChief Engineering Manager\\u003c/li\\u003e\\u003cli\\u003eSenior Executive Human Resources\\u003c/li\\u003e\\u003cli\\u003eIR\\u003c/li\\u003e\\u003cli\\u003eSite Civil Engineer\\u003c/li\\u003e\\u003cli\\u003eTraction Power Engineer\\u003c/li\\u003e\\u003cli\\u003eElectrical Engineer\\u003c/li\\u003e\\u003cli\\u003eEngineer\\u003c/li\\u003e\\u003cli\\u003eAssistant Manager\\u003c/li\\u003e\\u003cli\\u003eManager Electrical\\u003c/li\\u003e\\u003cli\\u003eResponsible For Business Development In Uttar Pradesh \\u0026 Uttarakhand.\\u003c/li\\u003e\\u003cli\\u003eSr.Construction Manager-Civil\\u003c/li\\u003e\\u003cli\\u003eSr. EHS Engineer\\u003c/li\\u003e\\u003cli\\u003eBusiness Development Manager\\u003c/li\\u003e\\u003c/ul\\u003e\"}, {\"color\": \"#3449eb\", \"font\": {\"color\": \"white\"}, \"id\": \"KALPATARU POWER TRANSMISSION LIMITED\", \"label\": \"KALPATARU POWER TRANSMISSION LIMITED\", \"shape\": \"dot\", \"size\": 38, \"title\": \"\\u003cb\\u003eKALPATARU POWER TRANSMISSION LIMITED \\u2013 19 connections\\u003c/b\\u003e\\u003cul\\u003e\\u003cli\\u003eSenior Commercial Officer\\u003c/li\\u003e\\u003cli\\u003eSenior Site Engineer\\u003c/li\\u003e\\u003cli\\u003eHR Business Partner\\u003c/li\\u003e\\u003cli\\u003ePresident \\u0026 Head - International Business Development\\u003c/li\\u003e\\u003cli\\u003eDeputy Manager\\u003c/li\\u003e\\u003cli\\u003eElectrical Engineer\\u003c/li\\u003e\\u003cli\\u003eprivate\\u003c/li\\u003e\\u003cli\\u003eSenior Manager-Tendering \\u0026 Estimation\\u003c/li\\u003e\\u003cli\\u003eSenior Business Development Manager\\u003c/li\\u003e\\u003cli\\u003eSr. Civil Engineer\\u003c/li\\u003e\\u003cli\\u003eGeneral Manager - International Business \\u003c/li\\u003e\\u003cli\\u003eSenior Manager\\u003c/li\\u003e\\u003cli\\u003eSenior Project Engineer\\u003c/li\\u003e\\u003cli\\u003eSr. Manager, International Business Development\\u003c/li\\u003e\\u003cli\\u003eTendering Engineer\\u003c/li\\u003e\\u003cli\\u003eSenior Engineer\\u003c/li\\u003e\\u003cli\\u003eAsst Vice President \\u003c/li\\u003e\\u003c/ul\\u003e\"}, {\"color\": \"#3449eb\", \"font\": {\"color\": \"white\"}, \"id\": \"GEPDEC INFRATECH LIMITED\", \"label\": \"GEPDEC INFRATECH LIMITED\", \"shape\": \"dot\", \"size\": 32, \"title\": \"\\u003cb\\u003eGEPDEC INFRATECH LIMITED \\u2013 16 connections\\u003c/b\\u003e\\u003cul\\u003e\\u003cli\\u003e Engineer Projects\\u003c/li\\u003e\\u003cli\\u003eElectrical Engineer (Procurement \\u0026 Project Coordination)\\u003c/li\\u003e\\u003cli\\u003eGepdech\\u003c/li\\u003e\\u003cli\\u003eHead of Civil Engineering\\u003c/li\\u003e\\u003cli\\u003eAssociate Manager\\u003c/li\\u003e\\u003cli\\u003eSenior Engineer\\u003c/li\\u003e\\u003cli\\u003eSr Electrical engineer\\u003c/li\\u003e\\u003cli\\u003eEngineer Electrical\\u003c/li\\u003e\\u003cli\\u003eElectrical Design Engineer\\u003c/li\\u003e\\u003cli\\u003eAssistant General Manager\\u003c/li\\u003e\\u003cli\\u003eAssistant Manager\\u003c/li\\u003e\\u003cli\\u003eAGM ACCOUNTS\\u003c/li\\u003e\\u003cli\\u003eCompany Secretary\\u003c/li\\u003e\\u003cli\\u003eLead Project Coordinator\\u003c/li\\u003e\\u003cli\\u003eAGM - Logistics \\u0026 Store\\u003c/li\\u003e\\u003c/ul\\u003e\"}, {\"color\": \"#3449eb\", \"font\": {\"color\": \"white\"}, \"id\": \"Tata Projects\", \"label\": \"Tata Projects\", \"shape\": \"dot\", \"size\": 26, \"title\": \"\\u003cb\\u003eTata Projects \\u2013 13 connections\\u003c/b\\u003e\\u003cul\\u003e\\u003cli\\u003eAGM - Projects \\u003c/li\\u003e\\u003cli\\u003eManager\\u003c/li\\u003e\\u003cli\\u003eDeputy Manager\\u003c/li\\u003e\\u003cli\\u003eSenior Manager (Business Development)\\u003c/li\\u003e\\u003cli\\u003eSenior Manager Human Resources\\u003c/li\\u003e\\u003cli\\u003eEngineer- Construction\\u003c/li\\u003e\\u003cli\\u003eAssistant Manager Materials\\u003c/li\\u003e\\u003cli\\u003eSafety Manager\\u003c/li\\u003e\\u003cli\\u003eManager Construction\\u003c/li\\u003e\\u003cli\\u003eConstruction Manager\\u003c/li\\u003e\\u003cli\\u003eSenior Project Manager\\u003c/li\\u003e\\u003cli\\u003eCivil Engineer\\u003c/li\\u003e\\u003c/ul\\u003e\"}, {\"color\": \"#3449eb\", \"font\": {\"color\": \"white\"}, \"id\": \"Skipper Electrical (India) Ltd.\", \"label\": \"Skipper Electrical (India) Ltd.\", \"shape\": \"dot\", \"size\": 26, \"title\": \"\\u003cb\\u003eSkipper Electrical (India) Ltd. \\u2013 13 connections\\u003c/b\\u003e\\u003cul\\u003e\\u003cli\\u003eGET in Projects\\u003c/li\\u003e\\u003cli\\u003eManager Store\\u003c/li\\u003e\\u003cli\\u003eProduction Manager\\u003c/li\\u003e\\u003cli\\u003eSr.Draugtsman\\u003c/li\\u003e\\u003cli\\u003eManager-IT \\u0026 Marcom\\u003c/li\\u003e\\u003cli\\u003evicepresident\\u003c/li\\u003e\\u003cli\\u003eTransformer Desiner\\u003c/li\\u003e\\u003cli\\u003eSr. Manager (Power Transformer design)\\u003c/li\\u003e\\u003cli\\u003eSr Manger production\\u003c/li\\u003e\\u003cli\\u003eDMM\\u003c/li\\u003e\\u003cli\\u003eIT - executive\\u003c/li\\u003e\\u003cli\\u003eAssistant Manager\\u003c/li\\u003e\\u003cli\\u003eAssistant Manager IT\\u003c/li\\u003e\\u003c/ul\\u003e\"}, {\"color\": \"#3449eb\", \"font\": {\"color\": \"white\"}, \"id\": \"Schneider Electric\", \"label\": \"Schneider Electric\", \"shape\": \"dot\", \"size\": 24, \"title\": \"\\u003cb\\u003eSchneider Electric \\u2013 12 connections\\u003c/b\\u003e\\u003cul\\u003e\\u003cli\\u003eSenior Manager- Technical Projects\\u003c/li\\u003e\\u003cli\\u003eHR Business Partner\\u003c/li\\u003e\\u003cli\\u003eManager - Smart Cities Segment\\u003c/li\\u003e\\u003cli\\u003eEngineer\\u003c/li\\u003e\\u003cli\\u003eSenior Bilingual Talent Acquisition Partner\\u003c/li\\u003e\\u003cli\\u003eGeneral Manager\\u003c/li\\u003e\\u003cli\\u003eSr.Manager \\u2013 Projects (Tendering )\\u003c/li\\u003e\\u003cli\\u003eSenior Manager\\u003c/li\\u003e\\u003cli\\u003eAutomation Manager\\u003c/li\\u003e\\u003cli\\u003eManager Customer Satisfaction \\u0026 Quality Assurance\\u003c/li\\u003e\\u003cli\\u003eSenior Manager - BD, IT \\u0026 Utilities (Power Distribution)\\u003c/li\\u003e\\u003cli\\u003eGlobal Launch Leader - High End Protection Reays \\u0026 PWP Process\\u003c/li\\u003e\\u003c/ul\\u003e\"}, {\"color\": \"#3449eb\", \"font\": {\"color\": \"white\"}, \"id\": \"Hitachi Energy\", \"label\": \"Hitachi Energy\", \"shape\": \"dot\", \"size\": 18, \"title\": \"\\u003cb\\u003eHitachi Energy \\u2013 9 connections\\u003c/b\\u003e\\u003cul\\u003e\\u003cli\\u003eRegional Sales Marketing Manager\\u003c/li\\u003e\\u003cli\\u003eMechanical Designer\\u003c/li\\u003e\\u003cli\\u003eSales and Tender Manager\\u003c/li\\u003e\\u003cli\\u003eIT Portfolio Manager (R\\u0026D, Engg. \\u0026 Manufacturing)\\u003c/li\\u003e\\u003cli\\u003eSupplier Quality and Development Engineer\\u003c/li\\u003e\\u003cli\\u003eCell leader - Production Instrument Transformers\\u003c/li\\u003e\\u003cli\\u003eHead Sales \\u0026 Marketing - Hybrid Switchgear (PASS) India\\u003c/li\\u003e\\u003cli\\u003eMarket Manager - Transformers \\u003c/li\\u003e\\u003cli\\u003eTalent Acquisition Lead\\u003c/li\\u003e\\u003c/ul\\u003e\"}, {\"color\": \"#3449eb\", \"font\": {\"color\": \"white\"}, \"id\": \"Tata Consultancy Services\", \"label\": \"Tata Consultancy Services\", \"shape\": \"dot\", \"size\": 16, \"title\": \"\\u003cb\\u003eTata Consultancy Services \\u2013 8 connections\\u003c/b\\u003e\\u003cul\\u003e\\u003cli\\u003eSystems Engineer- TCS Digital\\u003c/li\\u003e\\u003cli\\u003eSite Reliability Engineer/ Devops Engineer\\u003c/li\\u003e\\u003cli\\u003eSenior Recruitment Consultant (Analytics)\\u003c/li\\u003e\\u003cli\\u003eData Analyst\\u003c/li\\u003e\\u003cli\\u003eAssistant Consultant\\u003c/li\\u003e\\u003cli\\u003eRegional Head, Talent Acquisition Group, Gujarat\\u003c/li\\u003e\\u003cli\\u003eGlobal Business Head - Utilities (Engineering and IOT (T\\u0026D))\\u003c/li\\u003e\\u003cli\\u003eRecruiter\\u003c/li\\u003e\\u003c/ul\\u003e\"}, {\"color\": \"#3449eb\", \"font\": {\"color\": \"white\"}, \"id\": \"Sterlite Power\", \"label\": \"Sterlite Power\", \"shape\": \"dot\", \"size\": 16, \"title\": \"\\u003cb\\u003eSterlite Power \\u2013 8 connections\\u003c/b\\u003e\\u003cul\\u003e\\u003cli\\u003eManager Sales and Business Development\\u003c/li\\u003e\\u003cli\\u003eDGM - Engineering\\u003c/li\\u003e\\u003cli\\u003eManager- Marketing \\u0026 Business Development\\u003c/li\\u003e\\u003cli\\u003eManager- Asset Management At Sterlite Power\\u003c/li\\u003e\\u003cli\\u003eChief Manager - Sales and BD\\u003c/li\\u003e\\u003cli\\u003eDy.Manager\\u003c/li\\u003e\\u003cli\\u003eAssistant Manager\\u003c/li\\u003e\\u003cli\\u003eGlobal Talent Acquisition-Lead Sourcing \\u0026 Research Specialist @ Sterlite Power\\u003c/li\\u003e\\u003c/ul\\u003e\"}, {\"color\": \"#3449eb\", \"font\": {\"color\": \"white\"}, \"id\": \"Vindhya Telelinks Limited\", \"label\": \"Vindhya Telelinks Limited\", \"shape\": \"dot\", \"size\": 14, \"title\": \"\\u003cb\\u003eVindhya Telelinks Limited \\u2013 7 connections\\u003c/b\\u003e\\u003cul\\u003e\\u003cli\\u003eSr. Executive accounts project\\u003c/li\\u003e\\u003cli\\u003eSenior Electrical Engineer\\u003c/li\\u003e\\u003cli\\u003eAsst. Vice President-Business Development\\u003c/li\\u003e\\u003cli\\u003eAGM (Supply Chain Management)\\u003c/li\\u003e\\u003cli\\u003eProject Engineer\\u003c/li\\u003e\\u003cli\\u003eVice President (SCM)\\u003c/li\\u003e\\u003cli\\u003eEngineer(projects)\\u003c/li\\u003e\\u003c/ul\\u003e\"}, {\"color\": \"#3449eb\", \"font\": {\"color\": \"white\"}, \"id\": \"Amazon\", \"label\": \"Amazon\", \"shape\": \"dot\", \"size\": 14, \"title\": \"\\u003cb\\u003eAmazon \\u2013 7 connections\\u003c/b\\u003e\\u003cul\\u003e\\u003cli\\u003eLogistics Officer\\u003c/li\\u003e\\u003cli\\u003eFraud Investigator\\u003c/li\\u003e\\u003cli\\u003eVice President - APAC , MENA and LATAM Customer Fulfilment Operations\\u003c/li\\u003e\\u003cli\\u003eData Scientist II\\u003c/li\\u003e\\u003cli\\u003eContent Reviewer\\u003c/li\\u003e\\u003cli\\u003eProblem Solver, Specialista di Processo\\u003c/li\\u003e\\u003cli\\u003eInvestigations Specialist\\u003c/li\\u003e\\u003c/ul\\u003e\"}, {\"color\": \"#3449eb\", \"font\": {\"color\": \"white\"}, \"id\": \"Accenture\", \"label\": \"Accenture\", \"shape\": \"dot\", \"size\": 14, \"title\": \"\\u003cb\\u003eAccenture \\u2013 7 connections\\u003c/b\\u003e\\u003cul\\u003e\\u003cli\\u003eIntelligent Asset Management | Digital Manufacturing Operations \\u0026 AI | HSE\\u003c/li\\u003e\\u003cli\\u003eSenior Software Engineer\\u003c/li\\u003e\\u003cli\\u003eManagement Consulting Manager\\u003c/li\\u003e\\u003cli\\u003eAccenture\\u003c/li\\u003e\\u003cli\\u003eApplication Development Associate\\u003c/li\\u003e\\u003cli\\u003eHr. Manager at Accenture\\u003c/li\\u003e\\u003c/ul\\u003e\"}, {\"color\": \"#3449eb\", \"font\": {\"color\": \"white\"}, \"id\": \"Gupta Power Infrastructure Limited\", \"label\": \"Gupta Power Infrastructure Limited\", \"shape\": \"dot\", \"size\": 14, \"title\": \"\\u003cb\\u003eGupta Power Infrastructure Limited \\u2013 7 connections\\u003c/b\\u003e\\u003cul\\u003e\\u003cli\\u003eManager Sales and Marketing\\u003c/li\\u003e\\u003cli\\u003eSite Engineer\\u003c/li\\u003e\\u003cli\\u003eAGM - Marketing \\u0026 Sales\\u003c/li\\u003e\\u003cli\\u003eManager Design \\u0026 Business Development\\u003c/li\\u003e\\u003cli\\u003eInternational Business Manager\\u003c/li\\u003e\\u003cli\\u003eManager (Tendering)\\u003c/li\\u003e\\u003cli\\u003eVice President International Sales \\u0026 Marketing\\u003c/li\\u003e\\u003c/ul\\u003e\"}, {\"color\": \"#3449eb\", \"font\": {\"color\": \"white\"}, \"id\": \"Sterling and Wilson\", \"label\": \"Sterling and Wilson\", \"shape\": \"dot\", \"size\": 12, \"title\": \"\\u003cb\\u003eSterling and Wilson \\u2013 6 connections\\u003c/b\\u003e\\u003cul\\u003e\\u003cli\\u003eManager\\u003c/li\\u003e\\u003cli\\u003eOperatons and Maintenance Engineer\\u003c/li\\u003e\\u003cli\\u003eShift Engineer\\u003c/li\\u003e\\u003cli\\u003eAssistant Manager\\u003c/li\\u003e\\u003cli\\u003eRegional Head - South\\u003c/li\\u003e\\u003cli\\u003eDy Manager Purchase \\u003c/li\\u003e\\u003c/ul\\u003e\"}, {\"color\": \"#3449eb\", \"font\": {\"color\": \"white\"}, \"id\": \"IBM\", \"label\": \"IBM\", \"shape\": \"dot\", \"size\": 12, \"title\": \"\\u003cb\\u003eIBM \\u2013 6 connections\\u003c/b\\u003e\\u003cul\\u003e\\u003cli\\u003eManager\\u003c/li\\u003e\\u003cli\\u003eAdvisory System Analyst\\u003c/li\\u003e\\u003cli\\u003eConsultant\\u003c/li\\u003e\\u003cli\\u003eCommunity Program Manager \\u0026 Developer Advocate, APAC Developer Ecosystem and Startups\\u003c/li\\u003e\\u003cli\\u003eOracle Application Database Administrator\\u003c/li\\u003e\\u003cli\\u003eStaff Software Engineer\\u003c/li\\u003e\\u003c/ul\\u003e\"}, {\"color\": \"#3449eb\", \"font\": {\"color\": \"white\"}, \"id\": \"Power Grid Corporation of India Limited\", \"label\": \"Power Grid Corporation of India Limited\", \"shape\": \"dot\", \"size\": 10, \"title\": \"\\u003cb\\u003ePower Grid Corporation of India Limited \\u2013 5 connections\\u003c/b\\u003e\\u003cul\\u003e\\u003cli\\u003eJunior Engineer\\u003c/li\\u003e\\u003cli\\u003eDeputy General Manager\\u003c/li\\u003e\\u003cli\\u003eElectrical Engineer\\u003c/li\\u003e\\u003cli\\u003eDeputy Manager\\u003c/li\\u003e\\u003cli\\u003eProcurement Manager\\u003c/li\\u003e\\u003c/ul\\u003e\"}, {\"color\": \"#3449eb\", \"font\": {\"color\": \"white\"}, \"id\": \"Bharat Bijlee Ltd\", \"label\": \"Bharat Bijlee Ltd\", \"shape\": \"dot\", \"size\": 10, \"title\": \"\\u003cb\\u003eBharat Bijlee Ltd \\u2013 5 connections\\u003c/b\\u003e\\u003cul\\u003e\\u003cli\\u003eSales \\u0026 Marketing - Transformers \\u0026 Projects\\u003c/li\\u003e\\u003cli\\u003eManager \\u2013 Human Resources\\u003c/li\\u003e\\u003cli\\u003eTesting Engineer\\u003c/li\\u003e\\u003cli\\u003eSr. Manager - Exports\\u003c/li\\u003e\\u003cli\\u003eHR Executieve\\u003c/li\\u003e\\u003c/ul\\u003e\"}, {\"color\": \"#3449eb\", \"font\": {\"color\": \"white\"}, \"id\": \"ABB\", \"label\": \"ABB\", \"shape\": \"dot\", \"size\": 10, \"title\": \"\\u003cb\\u003eABB \\u2013 5 connections\\u003c/b\\u003e\\u003cul\\u003e\\u003cli\\u003eSenior Product Engineer\\u003c/li\\u003e\\u003cli\\u003eHR Professional\\u003c/li\\u003e\\u003cli\\u003eVP COO - Chief Operating Officer @ Consumer Segments \\u0026 Service Robotics\\u003c/li\\u003e\\u003cli\\u003eTransformer Testing and Service Engineer upto 800 kv class\\u003c/li\\u003e\\u003cli\\u003eChange and Training- HR Projects\\u003c/li\\u003e\\u003c/ul\\u003e\"}, {\"color\": \"#3449eb\", \"font\": {\"color\": \"white\"}, \"id\": \"Siemens\", \"label\": \"Siemens\", \"shape\": \"dot\", \"size\": 10, \"title\": \"\\u003cb\\u003eSiemens \\u2013 5 connections\\u003c/b\\u003e\\u003cul\\u003e\\u003cli\\u003eManaging Director \\u0026 CEO, Siemens Limited\\u003c/li\\u003e\\u003cli\\u003eEngineer\\u003c/li\\u003e\\u003cli\\u003eBid Manager\\u003c/li\\u003e\\u003cli\\u003eTendering \\u0026 Proposal Specialist-Energy Management Center.\\u003c/li\\u003e\\u003cli\\u003eManager - Strategic Purchase - Supply Chain Management\\u003c/li\\u003e\\u003c/ul\\u003e\"}, {\"color\": \"#3449eb\", \"font\": {\"color\": \"white\"}, \"id\": \"Infosys\", \"label\": \"Infosys\", \"shape\": \"dot\", \"size\": 8, \"title\": \"\\u003cb\\u003eInfosys \\u2013 4 connections\\u003c/b\\u003e\\u003cul\\u003e\\u003cli\\u003eTeam Lead\\u003c/li\\u003e\\u003cli\\u003eTechnical Program Manager\\u003c/li\\u003e\\u003cli\\u003eSystems Engineer Trainee\\u003c/li\\u003e\\u003cli\\u003eDevOps Engineer - ABN AMRO Bank\\u003c/li\\u003e\\u003c/ul\\u003e\"}, {\"color\": \"#3449eb\", \"font\": {\"color\": \"white\"}, \"id\": \"GE Renewable Energy\", \"label\": \"GE Renewable Energy\", \"shape\": \"dot\", \"size\": 8, \"title\": \"\\u003cb\\u003eGE Renewable Energy \\u2013 4 connections\\u003c/b\\u003e\\u003cul\\u003e\\u003cli\\u003eLead Engineer-Service Engineering\\u003c/li\\u003e\\u003cli\\u003eCommercial Strategy, Sales Excellence Leader \\u0026 Commercial Lean Champion\\u003c/li\\u003e\\u003cli\\u003eAsstt. Manager\\u003c/li\\u003e\\u003cli\\u003ePower Transformer |  Domestic \\u0026 International Marketing, Cost and Risk Leader , Tendering Head\\u003c/li\\u003e\\u003c/ul\\u003e\"}, {\"color\": \"#3449eb\", \"font\": {\"color\": \"white\"}, \"id\": \"AFCONS Infrastructure Limited - A Shapoorji Pallonji Group Company\", \"label\": \"AFCONS Infrastructure Limited - A Shapoorji Pallonji Group Company\", \"shape\": \"dot\", \"size\": 8, \"title\": \"\\u003cb\\u003eAFCONS Infrastructure Limited - A Shapoorji Pallonji Group Company \\u2013 4 connections\\u003c/b\\u003e\\u003cul\\u003e\\u003cli\\u003eElectrical Engineer\\u003c/li\\u003e\\u003cli\\u003eLead Personnel \\u0026 Admin\\u003c/li\\u003e\\u003cli\\u003eEngineer (Civil)\\u003c/li\\u003e\\u003c/ul\\u003e\"}, {\"color\": \"#3449eb\", \"font\": {\"color\": \"white\"}, \"id\": \"Bajaj Electricals Ltd\", \"label\": \"Bajaj Electricals Ltd\", \"shape\": \"dot\", \"size\": 8, \"title\": \"\\u003cb\\u003eBajaj Electricals Ltd \\u2013 4 connections\\u003c/b\\u003e\\u003cul\\u003e\\u003cli\\u003eAssistant Manager\\u003c/li\\u003e\\u003cli\\u003eHead - Integrated Supply Chain ( Manufacturing, Logistics and CP Supply Chain)\\u003c/li\\u003e\\u003cli\\u003eDy. Project Manager\\u003c/li\\u003e\\u003cli\\u003eStore Supervisor\\u003c/li\\u003e\\u003c/ul\\u003e\"}, {\"color\": \"#3449eb\", \"font\": {\"color\": \"white\"}, \"id\": \"Havells India Ltd\", \"label\": \"Havells India Ltd\", \"shape\": \"dot\", \"size\": 8, \"title\": \"\\u003cb\\u003eHavells India Ltd \\u2013 4 connections\\u003c/b\\u003e\\u003cul\\u003e\\u003cli\\u003ePurchade Executive \\u003c/li\\u003e\\u003cli\\u003eSales-Industrial Products\\u003c/li\\u003e\\u003cli\\u003eDeputy Manager\\u003c/li\\u003e\\u003cli\\u003eEnterprise Business Manager\\u003c/li\\u003e\\u003c/ul\\u003e\"}, {\"color\": \"#3449eb\", \"font\": {\"color\": \"white\"}, \"id\": \"AECOM\", \"label\": \"AECOM\", \"shape\": \"dot\", \"size\": 8, \"title\": \"\\u003cb\\u003eAECOM \\u2013 4 connections\\u003c/b\\u003e\\u003cul\\u003e\\u003cli\\u003eStructural Design Engineer, Pune Metro Rail Project (General Consultant)\\u003c/li\\u003e\\u003cli\\u003eSenior Talent Acquisition Specialist\\u003c/li\\u003e\\u003cli\\u003eTeam Leader | Project Manager \\u003c/li\\u003e\\u003cli\\u003eElectrical Engineer(Project Assistant) Document controller\\u003c/li\\u003e\\u003c/ul\\u003e\"}, {\"color\": \"#3449eb\", \"font\": {\"color\": \"white\"}, \"id\": \"GE Power\", \"label\": \"GE Power\", \"shape\": \"dot\", \"size\": 6, \"title\": \"\\u003cb\\u003eGE Power \\u2013 3 connections\\u003c/b\\u003e\\u003cul\\u003e\\u003cli\\u003eXLP - Value Stream leader, Gas Power Engineering\\u003c/li\\u003e\\u003cli\\u003eSales Director \\u2013 MENAT Region\\u003c/li\\u003e\\u003cli\\u003eSr. Engineer civil\\u003c/li\\u003e\\u003c/ul\\u003e\"}, {\"color\": \"#3449eb\", \"font\": {\"color\": \"white\"}, \"id\": \"SKIPPER LIMITED\", \"label\": \"SKIPPER LIMITED\", \"shape\": \"dot\", \"size\": 6, \"title\": \"\\u003cb\\u003eSKIPPER LIMITED \\u2013 3 connections\\u003c/b\\u003e\\u003cul\\u003e\\u003cli\\u003eACCOUNTS OFFICER\\u003c/li\\u003e\\u003cli\\u003eDesign Engineer\\u003c/li\\u003e\\u003cli\\u003eManager - Tendering\\u003c/li\\u003e\\u003c/ul\\u003e\"}, {\"color\": \"#3449eb\", \"font\": {\"color\": \"white\"}, \"id\": \"Tata Power-DDL\", \"label\": \"Tata Power-DDL\", \"shape\": \"dot\", \"size\": 6, \"title\": \"\\u003cb\\u003eTata Power-DDL \\u2013 3 connections\\u003c/b\\u003e\\u003cul\\u003e\\u003cli\\u003eSafety Engineer\\u003c/li\\u003e\\u003cli\\u003eProject Management Consultant\\u003c/li\\u003e\\u003cli\\u003eAssistant Manager\\u003c/li\\u003e\\u003c/ul\\u003e\"}, {\"color\": \"#3449eb\", \"font\": {\"color\": \"white\"}, \"id\": \"Technical Associates Ltd\", \"label\": \"Technical Associates Ltd\", \"shape\": \"dot\", \"size\": 6, \"title\": \"\\u003cb\\u003eTechnical Associates Ltd \\u2013 3 connections\\u003c/b\\u003e\\u003cul\\u003e\\u003cli\\u003eDirector\\u003c/li\\u003e\\u003cli\\u003eService Manager-After Sale n Repair unit\\u003c/li\\u003e\\u003cli\\u003eManager - Human Resources\\u003c/li\\u003e\\u003c/ul\\u003e\"}, {\"color\": \"#3449eb\", \"font\": {\"color\": \"white\"}, \"id\": \"SkipperSeil Group\", \"label\": \"SkipperSeil Group\", \"shape\": \"dot\", \"size\": 6, \"title\": \"\\u003cb\\u003eSkipperSeil Group \\u2013 3 connections\\u003c/b\\u003e\\u003cul\\u003e\\u003cli\\u003eGeneral Manager\\u003c/li\\u003e\\u003cli\\u003eTrainee Engineer\\u003c/li\\u003e\\u003cli\\u003ect/pt testing \\u0026dist, t/f expart (Q.A Engineer) mechanical\\u0026electrical\\u003c/li\\u003e\\u003c/ul\\u003e\"}, {\"color\": \"#3449eb\", \"font\": {\"color\": \"white\"}, \"id\": \"Capgemini\", \"label\": \"Capgemini\", \"shape\": \"dot\", \"size\": 6, \"title\": \"\\u003cb\\u003eCapgemini \\u2013 3 connections\\u003c/b\\u003e\\u003cul\\u003e\\u003cli\\u003eHuman Resources Consultant\\u003c/li\\u003e\\u003cli\\u003eSenior Manager - Banking and Capital Markets\\u003c/li\\u003e\\u003cli\\u003eTechnical Lead\\u003c/li\\u003e\\u003c/ul\\u003e\"}, {\"color\": \"#3449eb\", \"font\": {\"color\": \"white\"}, \"id\": \"Godrej \\u0026 Boyce Mfg. Co. Ltd.\", \"label\": \"Godrej \\u0026 Boyce Mfg. Co. Ltd.\", \"shape\": \"dot\", \"size\": 6, \"title\": \"\\u003cb\\u003eGodrej \\u0026 Boyce Mfg. Co. Ltd. \\u2013 3 connections\\u003c/b\\u003e\\u003cul\\u003e\\u003cli\\u003eDeputy Manager\\u003c/li\\u003e\\u003cli\\u003eProject Engineer\\u003c/li\\u003e\\u003cli\\u003eAssistant Manager\\u003c/li\\u003e\\u003c/ul\\u003e\"}, {\"color\": \"#3449eb\", \"font\": {\"color\": \"white\"}, \"id\": \"Crompton Greaves\", \"label\": \"Crompton Greaves\", \"shape\": \"dot\", \"size\": 6, \"title\": \"\\u003cb\\u003eCrompton Greaves \\u2013 3 connections\\u003c/b\\u003e\\u003cul\\u003e\\u003cli\\u003eMV, HV \\u0026 EHV Switchgear Marketing - (Gujarat)\\u003c/li\\u003e\\u003cli\\u003eMarketing\\u003c/li\\u003e\\u003cli\\u003eDeputy Manager Design \\u003c/li\\u003e\\u003c/ul\\u003e\"}, {\"color\": \"#3449eb\", \"font\": {\"color\": \"white\"}, \"id\": \"Adani Electricity\", \"label\": \"Adani Electricity\", \"shape\": \"dot\", \"size\": 6, \"title\": \"\\u003cb\\u003eAdani Electricity \\u2013 3 connections\\u003c/b\\u003e\\u003cul\\u003e\\u003cli\\u003eHead HR - AEML\\u003c/li\\u003e\\u003cli\\u003eAssistant Vice President\\u003c/li\\u003e\\u003cli\\u003eProject Engineer\\u003c/li\\u003e\\u003c/ul\\u003e\"}, {\"color\": \"#3449eb\", \"font\": {\"color\": \"white\"}, \"id\": \"Reliance Industries Limited\", \"label\": \"Reliance Industries Limited\", \"shape\": \"dot\", \"size\": 6, \"title\": \"\\u003cb\\u003eReliance Industries Limited \\u2013 3 connections\\u003c/b\\u003e\\u003cul\\u003e\\u003cli\\u003eSenior General Manager\\u003c/li\\u003e\\u003cli\\u003eMechanical Engineering Manager\\u003c/li\\u003e\\u003cli\\u003eLeader- Renewable Energy Development for New Energy Business , President RIL\\u003c/li\\u003e\\u003c/ul\\u003e\"}, {\"color\": \"#3449eb\", \"font\": {\"color\": \"white\"}, \"id\": \"TBEA Energy (India) Private Limited\", \"label\": \"TBEA Energy (India) Private Limited\", \"shape\": \"dot\", \"size\": 6, \"title\": \"\\u003cb\\u003eTBEA Energy (India) Private Limited \\u2013 3 connections\\u003c/b\\u003e\\u003cul\\u003e\\u003cli\\u003eManager - Tendering / Project Management / Project Execution\\u003c/li\\u003e\\u003cli\\u003eTendering Engineer\\u003c/li\\u003e\\u003cli\\u003eSenior Engineer - Project Execution (EPC)\\u003c/li\\u003e\\u003c/ul\\u003e\"}, {\"color\": \"#3449eb\", \"font\": {\"color\": \"white\"}, \"id\": \"Appen\", \"label\": \"Appen\", \"shape\": \"dot\", \"size\": 6, \"title\": \"\\u003cb\\u003eAppen \\u2013 3 connections\\u003c/b\\u003e\\u003cul\\u003e\\u003cli\\u003eSourcing Team Lead\\u003c/li\\u003e\\u003cli\\u003eRecruitment Specialist\\u003c/li\\u003e\\u003cli\\u003eCrowd Sourcing Specialist\\u003c/li\\u003e\\u003c/ul\\u003e\"}, {\"color\": \"#3449eb\", \"font\": {\"color\": \"white\"}, \"id\": \"Voltamp transformers limited\", \"label\": \"Voltamp transformers limited\", \"shape\": \"dot\", \"size\": 6, \"title\": \"\\u003cb\\u003eVoltamp transformers limited \\u2013 3 connections\\u003c/b\\u003e\\u003cul\\u003e\\u003cli\\u003eElectrical Engineer\\u003c/li\\u003e\\u003cli\\u003eDeputy General Manager ( Production )\\u003c/li\\u003e\\u003cli\\u003eGeneral Manager\\u003c/li\\u003e\\u003c/ul\\u003e\"}, {\"color\": \"#3449eb\", \"font\": {\"color\": \"white\"}, \"id\": \"Swiggy\", \"label\": \"Swiggy\", \"shape\": \"dot\", \"size\": 6, \"title\": \"\\u003cb\\u003eSwiggy \\u2013 3 connections\\u003c/b\\u003e\\u003cul\\u003e\\u003cli\\u003eVendor Manager\\u003c/li\\u003e\\u003cli\\u003eVP of Engineering\\u003c/li\\u003e\\u003cli\\u003eSenior Operations Manager\\u003c/li\\u003e\\u003c/ul\\u003e\"}, {\"color\": \"#3449eb\", \"font\": {\"color\": \"white\"}, \"id\": \"Tech Mahindra\", \"label\": \"Tech Mahindra\", \"shape\": \"dot\", \"size\": 6, \"title\": \"\\u003cb\\u003eTech Mahindra \\u2013 3 connections\\u003c/b\\u003e\\u003cul\\u003e\\u003cli\\u003eLead - Marketing\\u003c/li\\u003e\\u003cli\\u003eSr. Business Associate\\u003c/li\\u003e\\u003cli\\u003eRecruitment Manager\\u003c/li\\u003e\\u003c/ul\\u003e\"}, {\"color\": \"#3449eb\", \"font\": {\"color\": \"white\"}, \"id\": \"YES BANK\", \"label\": \"YES BANK\", \"shape\": \"dot\", \"size\": 6, \"title\": \"\\u003cb\\u003eYES BANK \\u2013 3 connections\\u003c/b\\u003e\\u003cul\\u003e\\u003cli\\u003eDeputy Manager\\u003c/li\\u003e\\u003cli\\u003eAssistant Vice President\\u003c/li\\u003e\\u003c/ul\\u003e\"}, {\"color\": \"#3449eb\", \"font\": {\"color\": \"white\"}, \"id\": \"PCI Limited\", \"label\": \"PCI Limited\", \"shape\": \"dot\", \"size\": 6, \"title\": \"\\u003cb\\u003ePCI Limited \\u2013 3 connections\\u003c/b\\u003e\\u003cul\\u003e\\u003cli\\u003eSr. Executive (Sales Support)\\u003c/li\\u003e\\u003cli\\u003eAsst. General Manager-Marketing\\u003c/li\\u003e\\u003cli\\u003eSr. Sales Coordinator\\u003c/li\\u003e\\u003c/ul\\u003e\"}, {\"color\": \"#3449eb\", \"font\": {\"color\": \"white\"}, \"id\": \"Drishti Consultants Pvt. Ltd.\", \"label\": \"Drishti Consultants Pvt. Ltd.\", \"shape\": \"dot\", \"size\": 6, \"title\": \"\\u003cb\\u003eDrishti Consultants Pvt. Ltd. \\u2013 3 connections\\u003c/b\\u003e\\u003cul\\u003e\\u003cli\\u003eRecruitment Executive\\u003c/li\\u003e\\u003cli\\u003eRecruitment Consultants\\u003c/li\\u003e\\u003cli\\u003eRecruitment Consultant\\u003c/li\\u003e\\u003c/ul\\u003e\"}, {\"color\": \"#3449eb\", \"font\": {\"color\": \"white\"}, \"id\": \"ABC Consultants\", \"label\": \"ABC Consultants\", \"shape\": \"dot\", \"size\": 6, \"title\": \"\\u003cb\\u003eABC Consultants \\u2013 3 connections\\u003c/b\\u003e\\u003cul\\u003e\\u003cli\\u003eSenior Consultant\\u003c/li\\u003e\\u003cli\\u003eResearch Associate - Infrastructure Practice \\u003c/li\\u003e\\u003cli\\u003eDeputy Manager Human Resources\\u003c/li\\u003e\\u003c/ul\\u003e\"}, {\"color\": \"#3449eb\", \"font\": {\"color\": \"white\"}, \"id\": \"Utkarsh India Limited\", \"label\": \"Utkarsh India Limited\", \"shape\": \"dot\", \"size\": 6, \"title\": \"\\u003cb\\u003eUtkarsh India Limited \\u2013 3 connections\\u003c/b\\u003e\\u003cul\\u003e\\u003cli\\u003eProduction and Planning Incharge\\u003c/li\\u003e\\u003cli\\u003eGeneral Manager Operations \\u0026 Marketing (HOD) Tower Department\\u003c/li\\u003e\\u003cli\\u003eGM Sales \\u0026 Marketing\\u003c/li\\u003e\\u003c/ul\\u003e\"}, {\"color\": \"#3449eb\", \"font\": {\"color\": \"white\"}, \"id\": \"Wipro Limited\", \"label\": \"Wipro Limited\", \"shape\": \"dot\", \"size\": 6, \"title\": \"\\u003cb\\u003eWipro Limited \\u2013 3 connections\\u003c/b\\u003e\\u003cul\\u003e\\u003cli\\u003eSenior Executive Human Resources\\u003c/li\\u003e\\u003cli\\u003eTalent Acquisition\\u003c/li\\u003e\\u003cli\\u003eAssistant Manager - Talent Acquisition\\u003c/li\\u003e\\u003c/ul\\u003e\"}, {\"color\": \"#3449eb\", \"font\": {\"color\": \"white\"}, \"id\": \"National Contracting Company \", \"label\": \"National Contracting Company \", \"shape\": \"dot\", \"size\": 6, \"title\": \"\\u003cb\\u003eNational Contracting Company  \\u2013 3 connections\\u003c/b\\u003e\\u003cul\\u003e\\u003cli\\u003eElectrical Engineer\\u003c/li\\u003e\\u003cli\\u003eProject Engineer\\u003c/li\\u003e\\u003cli\\u003eDy Manager\\u003c/li\\u003e\\u003c/ul\\u003e\"}, {\"color\": \"#3449eb\", \"font\": {\"color\": \"white\"}, \"id\": \"MKC Infrastructure Ltd - India\", \"label\": \"MKC Infrastructure Ltd - India\", \"shape\": \"dot\", \"size\": 6, \"title\": \"\\u003cb\\u003eMKC Infrastructure Ltd - India \\u2013 3 connections\\u003c/b\\u003e\\u003cul\\u003e\\u003cli\\u003eSite Engineer\\u003c/li\\u003e\\u003cli\\u003eElectrical Supervisor\\u003c/li\\u003e\\u003cli\\u003eDirector Projects\\u003c/li\\u003e\\u003c/ul\\u003e\"}, {\"color\": \"#3449eb\", \"font\": {\"color\": \"white\"}, \"id\": \"Feedback INFRA\", \"label\": \"Feedback INFRA\", \"shape\": \"dot\", \"size\": 6, \"title\": \"\\u003cb\\u003eFeedback INFRA \\u2013 3 connections\\u003c/b\\u003e\\u003cul\\u003e\\u003cli\\u003eManager Project Management\\u003c/li\\u003e\\u003cli\\u003eDeputy Manager- Talent Acquisition- Highway Division (Bidding, HO, RO, Project mobilization)\\u003c/li\\u003e\\u003cli\\u003eAssistant Engineer\\u003c/li\\u003e\\u003c/ul\\u003e\"}, {\"color\": \"#3449eb\", \"font\": {\"color\": \"white\"}, \"id\": \"Jakson Group\", \"label\": \"Jakson Group\", \"shape\": \"dot\", \"size\": 6, \"title\": \"\\u003cb\\u003eJakson Group \\u2013 3 connections\\u003c/b\\u003e\\u003cul\\u003e\\u003cli\\u003eBusiness Development \\u003c/li\\u003e\\u003cli\\u003eManager\\u003c/li\\u003e\\u003cli\\u003eManager - Solar EPC \\u0026 IPP Civil \\u0026 Structure Detail Engineering \\u003c/li\\u003e\\u003c/ul\\u003e\"}, {\"color\": \"#3449eb\", \"font\": {\"color\": \"white\"}, \"id\": \"Xpert Conexions (A Shramik Group Company)\", \"label\": \"Xpert Conexions (A Shramik Group Company)\", \"shape\": \"dot\", \"size\": 6, \"title\": \"\\u003cb\\u003eXpert Conexions (A Shramik Group Company) \\u2013 3 connections\\u003c/b\\u003e\\u003cul\\u003e\\u003cli\\u003eLeadership and Technology Hiring at Xpert Conexions\\u003c/li\\u003e\\u003cli\\u003eSr.HR Recruitments(Telecom,IT,FMCG,Automobile)\\u003c/li\\u003e\\u003cli\\u003eDelivery Manager\\u003c/li\\u003e\\u003c/ul\\u003e\"}, {\"color\": \"#3449eb\", \"font\": {\"color\": \"white\"}, \"id\": \"Pegasystems\", \"label\": \"Pegasystems\", \"shape\": \"dot\", \"size\": 6, \"title\": \"\\u003cb\\u003ePegasystems \\u2013 3 connections\\u003c/b\\u003e\\u003cul\\u003e\\u003cli\\u003eTalent Attraction Consultant\\u003c/li\\u003e\\u003cli\\u003eLead Robotics Architect\\u003c/li\\u003e\\u003cli\\u003eSoftware Engineer\\u003c/li\\u003e\\u003c/ul\\u003e\"}, {\"color\": \"#3449eb\", \"font\": {\"color\": \"white\"}, \"id\": \"Torrent Power\", \"label\": \"Torrent Power\", \"shape\": \"dot\", \"size\": 6, \"title\": \"\\u003cb\\u003eTorrent Power \\u2013 3 connections\\u003c/b\\u003e\\u003cul\\u003e\\u003cli\\u003eGeneral Manager EHV\\u003c/li\\u003e\\u003cli\\u003eElectrical Engineer\\u003c/li\\u003e\\u003cli\\u003eManager\\u003c/li\\u003e\\u003c/ul\\u003e\"}, {\"color\": \"#3449eb\", \"font\": {\"color\": \"white\"}, \"id\": \"Transrail Lighting Limited\", \"label\": \"Transrail Lighting Limited\", \"shape\": \"dot\", \"size\": 6, \"title\": \"\\u003cb\\u003eTransrail Lighting Limited \\u2013 3 connections\\u003c/b\\u003e\\u003cul\\u003e\\u003cli\\u003eCOO \\u2014International \\u0026CBO\\u003c/li\\u003e\\u003cli\\u003eDeputy General Manager\\u003c/li\\u003e\\u003cli\\u003eChief Human Resources Officer\\u003c/li\\u003e\\u003c/ul\\u003e\"}, {\"color\": \"#3449eb\", \"font\": {\"color\": \"white\"}, \"id\": \"Adani Group\", \"label\": \"Adani Group\", \"shape\": \"dot\", \"size\": 6, \"title\": \"\\u003cb\\u003eAdani Group \\u2013 3 connections\\u003c/b\\u003e\\u003cul\\u003e\\u003cli\\u003eAssociate Manager- Human Resources\\u003c/li\\u003e\\u003cli\\u003eGM F \\u0026 A\\u003c/li\\u003e\\u003cli\\u003eStrategy \\u0026 Policy Lead\\u003c/li\\u003e\\u003c/ul\\u003e\"}, {\"color\": \"#3449eb\", \"font\": {\"color\": \"white\"}, \"id\": \"Jindal Rectifiers\", \"label\": \"Jindal Rectifiers\", \"shape\": \"dot\", \"size\": 6, \"title\": \"\\u003cb\\u003eJindal Rectifiers \\u2013 3 connections\\u003c/b\\u003e\\u003cul\\u003e\\u003cli\\u003eSr. Marketing Eng\\u003c/li\\u003e\\u003cli\\u003eJINDAL\\\"S (South Asia\\u0027s Lagest Power Control Company)\\u003c/li\\u003e\\u003cli\\u003eAsst. Manager Marketing\\u003c/li\\u003e\\u003c/ul\\u003e\"}, {\"color\": \"#3449eb\", \"font\": {\"color\": \"white\"}, \"id\": \"HCL Technologies\", \"label\": \"HCL Technologies\", \"shape\": \"dot\", \"size\": 6, \"title\": \"\\u003cb\\u003eHCL Technologies \\u2013 3 connections\\u003c/b\\u003e\\u003cul\\u003e\\u003cli\\u003eSenior Software Engineer\\u003c/li\\u003e\\u003cli\\u003eSenior Executive\\u003c/li\\u003e\\u003cli\\u003eInformation Technology Team Lead\\u003c/li\\u003e\\u003c/ul\\u003e\"}]);\n",
       "        edges = new vis.DataSet([{\"color\": \"grey\", \"from\": \"root\", \"to\": \"KEC International Ltd.\", \"weight\": 1}, {\"color\": \"grey\", \"from\": \"root\", \"to\": \"Larsen \\u0026 Toubro\", \"weight\": 1}, {\"color\": \"grey\", \"from\": \"root\", \"to\": \"KALPATARU POWER TRANSMISSION LIMITED\", \"weight\": 1}, {\"color\": \"grey\", \"from\": \"root\", \"to\": \"GEPDEC INFRATECH LIMITED\", \"weight\": 1}, {\"color\": \"grey\", \"from\": \"root\", \"to\": \"Tata Projects\", \"weight\": 1}, {\"color\": \"grey\", \"from\": \"root\", \"to\": \"Skipper Electrical (India) Ltd.\", \"weight\": 1}, {\"color\": \"grey\", \"from\": \"root\", \"to\": \"Schneider Electric\", \"weight\": 1}, {\"color\": \"grey\", \"from\": \"root\", \"to\": \"Hitachi Energy\", \"weight\": 1}, {\"color\": \"grey\", \"from\": \"root\", \"to\": \"Tata Consultancy Services\", \"weight\": 1}, {\"color\": \"grey\", \"from\": \"root\", \"to\": \"Sterlite Power\", \"weight\": 1}, {\"color\": \"grey\", \"from\": \"root\", \"to\": \"Vindhya Telelinks Limited\", \"weight\": 1}, {\"color\": \"grey\", \"from\": \"root\", \"to\": \"Amazon\", \"weight\": 1}, {\"color\": \"grey\", \"from\": \"root\", \"to\": \"Accenture\", \"weight\": 1}, {\"color\": \"grey\", \"from\": \"root\", \"to\": \"Gupta Power Infrastructure Limited\", \"weight\": 1}, {\"color\": \"grey\", \"from\": \"root\", \"to\": \"Sterling and Wilson\", \"weight\": 1}, {\"color\": \"grey\", \"from\": \"root\", \"to\": \"IBM\", \"weight\": 1}, {\"color\": \"grey\", \"from\": \"root\", \"to\": \"Power Grid Corporation of India Limited\", \"weight\": 1}, {\"color\": \"grey\", \"from\": \"root\", \"to\": \"Bharat Bijlee Ltd\", \"weight\": 1}, {\"color\": \"grey\", \"from\": \"root\", \"to\": \"ABB\", \"weight\": 1}, {\"color\": \"grey\", \"from\": \"root\", \"to\": \"Siemens\", \"weight\": 1}, {\"color\": \"grey\", \"from\": \"root\", \"to\": \"Infosys\", \"weight\": 1}, {\"color\": \"grey\", \"from\": \"root\", \"to\": \"GE Renewable Energy\", \"weight\": 1}, {\"color\": \"grey\", \"from\": \"root\", \"to\": \"AFCONS Infrastructure Limited - A Shapoorji Pallonji Group Company\", \"weight\": 1}, {\"color\": \"grey\", \"from\": \"root\", \"to\": \"Bajaj Electricals Ltd\", \"weight\": 1}, {\"color\": \"grey\", \"from\": \"root\", \"to\": \"Havells India Ltd\", \"weight\": 1}, {\"color\": \"grey\", \"from\": \"root\", \"to\": \"AECOM\", \"weight\": 1}, {\"color\": \"grey\", \"from\": \"root\", \"to\": \"GE Power\", \"weight\": 1}, {\"color\": \"grey\", \"from\": \"root\", \"to\": \"SKIPPER LIMITED\", \"weight\": 1}, {\"color\": \"grey\", \"from\": \"root\", \"to\": \"Tata Power-DDL\", \"weight\": 1}, {\"color\": \"grey\", \"from\": \"root\", \"to\": \"Technical Associates Ltd\", \"weight\": 1}, {\"color\": \"grey\", \"from\": \"root\", \"to\": \"SkipperSeil Group\", \"weight\": 1}, {\"color\": \"grey\", \"from\": \"root\", \"to\": \"Capgemini\", \"weight\": 1}, {\"color\": \"grey\", \"from\": \"root\", \"to\": \"Godrej \\u0026 Boyce Mfg. Co. Ltd.\", \"weight\": 1}, {\"color\": \"grey\", \"from\": \"root\", \"to\": \"Crompton Greaves\", \"weight\": 1}, {\"color\": \"grey\", \"from\": \"root\", \"to\": \"Adani Electricity\", \"weight\": 1}, {\"color\": \"grey\", \"from\": \"root\", \"to\": \"Reliance Industries Limited\", \"weight\": 1}, {\"color\": \"grey\", \"from\": \"root\", \"to\": \"TBEA Energy (India) Private Limited\", \"weight\": 1}, {\"color\": \"grey\", \"from\": \"root\", \"to\": \"Appen\", \"weight\": 1}, {\"color\": \"grey\", \"from\": \"root\", \"to\": \"Voltamp transformers limited\", \"weight\": 1}, {\"color\": \"grey\", \"from\": \"root\", \"to\": \"Swiggy\", \"weight\": 1}, {\"color\": \"grey\", \"from\": \"root\", \"to\": \"Tech Mahindra\", \"weight\": 1}, {\"color\": \"grey\", \"from\": \"root\", \"to\": \"YES BANK\", \"weight\": 1}, {\"color\": \"grey\", \"from\": \"root\", \"to\": \"PCI Limited\", \"weight\": 1}, {\"color\": \"grey\", \"from\": \"root\", \"to\": \"Drishti Consultants Pvt. Ltd.\", \"weight\": 1}, {\"color\": \"grey\", \"from\": \"root\", \"to\": \"ABC Consultants\", \"weight\": 1}, {\"color\": \"grey\", \"from\": \"root\", \"to\": \"Utkarsh India Limited\", \"weight\": 1}, {\"color\": \"grey\", \"from\": \"root\", \"to\": \"Wipro Limited\", \"weight\": 1}, {\"color\": \"grey\", \"from\": \"root\", \"to\": \"National Contracting Company \", \"weight\": 1}, {\"color\": \"grey\", \"from\": \"root\", \"to\": \"MKC Infrastructure Ltd - India\", \"weight\": 1}, {\"color\": \"grey\", \"from\": \"root\", \"to\": \"Feedback INFRA\", \"weight\": 1}, {\"color\": \"grey\", \"from\": \"root\", \"to\": \"Jakson Group\", \"weight\": 1}, {\"color\": \"grey\", \"from\": \"root\", \"to\": \"Xpert Conexions (A Shramik Group Company)\", \"weight\": 1}, {\"color\": \"grey\", \"from\": \"root\", \"to\": \"Pegasystems\", \"weight\": 1}, {\"color\": \"grey\", \"from\": \"root\", \"to\": \"Torrent Power\", \"weight\": 1}, {\"color\": \"grey\", \"from\": \"root\", \"to\": \"Transrail Lighting Limited\", \"weight\": 1}, {\"color\": \"grey\", \"from\": \"root\", \"to\": \"Adani Group\", \"weight\": 1}, {\"color\": \"grey\", \"from\": \"root\", \"to\": \"Jindal Rectifiers\", \"weight\": 1}, {\"color\": \"grey\", \"from\": \"root\", \"to\": \"HCL Technologies\", \"weight\": 1}]);\n",
       "\n",
       "        // adding nodes and edges to the graph\n",
       "        data = {nodes: nodes, edges: edges};\n",
       "\n",
       "        var options = {\n",
       "    \"configure\": {\n",
       "        \"enabled\": false\n",
       "    },\n",
       "    \"edges\": {\n",
       "        \"color\": {\n",
       "            \"inherit\": true\n",
       "        },\n",
       "        \"smooth\": {\n",
       "            \"enabled\": false,\n",
       "            \"type\": \"continuous\"\n",
       "        }\n",
       "    },\n",
       "    \"interaction\": {\n",
       "        \"dragNodes\": true,\n",
       "        \"hideEdgesOnDrag\": false,\n",
       "        \"hideNodesOnDrag\": false\n",
       "    },\n",
       "    \"physics\": {\n",
       "        \"enabled\": true,\n",
       "        \"hierarchicalRepulsion\": {\n",
       "            \"centralGravity\": 0.0,\n",
       "            \"damping\": 0.09,\n",
       "            \"nodeDistance\": 120,\n",
       "            \"springConstant\": 0.01,\n",
       "            \"springLength\": 100\n",
       "        },\n",
       "        \"solver\": \"hierarchicalRepulsion\",\n",
       "        \"stabilization\": {\n",
       "            \"enabled\": true,\n",
       "            \"fit\": true,\n",
       "            \"iterations\": 1000,\n",
       "            \"onlyDynamicEdges\": false,\n",
       "            \"updateInterval\": 50\n",
       "        }\n",
       "    }\n",
       "};\n",
       "        \n",
       "        \n",
       "\n",
       "        \n",
       "\n",
       "        network = new vis.Network(container, data, options);\n",
       "\t \n",
       "        \n",
       "\n",
       "\n",
       "        \n",
       "\n",
       "        return network;\n",
       "\n",
       "    }\n",
       "\n",
       "    drawGraph();\n",
       "\n",
       "</script>\n",
       "</body>\n",
       "</html>"
      ],
      "text/plain": [
       "<IPython.core.display.HTML object>"
      ]
     },
     "metadata": {},
     "output_type": "display_data"
    }
   ],
   "source": [
    "# initialize graph\n",
    "g = nx.Graph()\n",
    "g.add_node('root') # intialize yourself as central\n",
    "\n",
    "# use iterrows to iterate through the data frame\n",
    "for _, row in df_company_reduced.iterrows():\n",
    "\n",
    "  # store company name and count\n",
    "  company = row['company']\n",
    "  count = row['count']\n",
    "\n",
    "  title = f\"<b>{company} – {count} connections</b>\"\n",
    "  positions = set([x for x in df[company == df['company']]['position']])\n",
    "  positions = ''.join('<li>{}</li>'.format(x) for x in positions)\n",
    "  position_list = f\"<ul>{positions}</ul>\"\n",
    "\n",
    "  hover_info = title + position_list\n",
    "\n",
    "  g.add_node(company, size=count*2, title=hover_info, color='#3449eb')\n",
    "  g.add_edge('root', company, color='grey')\n",
    "\n",
    "# generate the graph\n",
    "nt = net.Network(height='800px', width='1100px', bgcolor=\"black\", font_color='white')\n",
    "nt.from_nx(g)\n",
    "nt.hrepulsion()\n",
    "# more customization https://tinyurl.com/yf5lvvdm\n",
    "nt.show('company_graph.html')\n",
    "display(HTML('company_graph.html'))"
   ]
  },
  {
   "cell_type": "code",
   "execution_count": 17,
   "metadata": {
    "colab": {
     "base_uri": "https://localhost:8080/",
     "height": 738
    },
    "id": "L_ilNMem_lXz",
    "outputId": "dbe48f90-677f-44ef-a694-a63befa88d09"
   },
   "outputs": [
    {
     "data": {
      "text/html": [
       "<html>\n",
       "<head>\n",
       "<link rel=\"stylesheet\" href=\"https://cdnjs.cloudflare.com/ajax/libs/vis/4.16.1/vis.css\" type=\"text/css\" />\n",
       "<script type=\"text/javascript\" src=\"https://cdnjs.cloudflare.com/ajax/libs/vis/4.16.1/vis-network.min.js\"> </script>\n",
       "<center>\n",
       "<h1></h1>\n",
       "</center>\n",
       "\n",
       "<!-- <link rel=\"stylesheet\" href=\"../node_modules/vis/dist/vis.min.css\" type=\"text/css\" />\n",
       "<script type=\"text/javascript\" src=\"../node_modules/vis/dist/vis.js\"> </script>-->\n",
       "\n",
       "<style type=\"text/css\">\n",
       "\n",
       "        #mynetwork {\n",
       "            width: 700px;\n",
       "            height: 700px;\n",
       "            background-color: black;\n",
       "            border: 1px solid lightgray;\n",
       "            position: relative;\n",
       "            float: left;\n",
       "        }\n",
       "\n",
       "        \n",
       "\n",
       "        \n",
       "\n",
       "        \n",
       "</style>\n",
       "\n",
       "</head>\n",
       "\n",
       "<body>\n",
       "<div id = \"mynetwork\"></div>\n",
       "\n",
       "\n",
       "<script type=\"text/javascript\">\n",
       "\n",
       "    // initialize global variables.\n",
       "    var edges;\n",
       "    var nodes;\n",
       "    var network; \n",
       "    var container;\n",
       "    var options, data;\n",
       "\n",
       "    \n",
       "    // This method is responsible for drawing the graph, returns the drawn network\n",
       "    function drawGraph() {\n",
       "        var container = document.getElementById('mynetwork');\n",
       "        \n",
       "        \n",
       "\n",
       "        // parsing and collecting nodes and edges from the python\n",
       "        nodes = new vis.DataSet([{\"font\": {\"color\": \"white\"}, \"id\": \"root\", \"label\": \"root\", \"shape\": \"dot\", \"size\": 10}, {\"color\": \"#3449eb\", \"font\": {\"color\": \"white\"}, \"id\": \"Director\", \"label\": \"Director\", \"shape\": \"dot\", \"size\": 67, \"title\": \"\\u003cb\\u003e67 connections\\u003c/b\\u003e\"}, {\"color\": \"#3449eb\", \"font\": {\"color\": \"white\"}, \"id\": \"Managing Director\", \"label\": \"Managing Director\", \"shape\": \"dot\", \"size\": 60, \"title\": \"\\u003cb\\u003e60 connections\\u003c/b\\u003e\"}, {\"color\": \"#3449eb\", \"font\": {\"color\": \"white\"}, \"id\": \"Assistant Manager\", \"label\": \"Assistant Manager\", \"shape\": \"dot\", \"size\": 44, \"title\": \"\\u003cb\\u003e44 connections\\u003c/b\\u003e\"}, {\"color\": \"#3449eb\", \"font\": {\"color\": \"white\"}, \"id\": \"Owner\", \"label\": \"Owner\", \"shape\": \"dot\", \"size\": 42, \"title\": \"\\u003cb\\u003e42 connections\\u003c/b\\u003e\"}, {\"color\": \"#3449eb\", \"font\": {\"color\": \"white\"}, \"id\": \"Manager\", \"label\": \"Manager\", \"shape\": \"dot\", \"size\": 32, \"title\": \"\\u003cb\\u003e32 connections\\u003c/b\\u003e\"}, {\"color\": \"#3449eb\", \"font\": {\"color\": \"white\"}, \"id\": \"Deputy Manager\", \"label\": \"Deputy Manager\", \"shape\": \"dot\", \"size\": 24, \"title\": \"\\u003cb\\u003e24 connections\\u003c/b\\u003e\"}, {\"color\": \"#3449eb\", \"font\": {\"color\": \"white\"}, \"id\": \"Founder\", \"label\": \"Founder\", \"shape\": \"dot\", \"size\": 24, \"title\": \"\\u003cb\\u003e24 connections\\u003c/b\\u003e\"}, {\"color\": \"#3449eb\", \"font\": {\"color\": \"white\"}, \"id\": \"Electrical Engineer\", \"label\": \"Electrical Engineer\", \"shape\": \"dot\", \"size\": 23, \"title\": \"\\u003cb\\u003e23 connections\\u003c/b\\u003e\"}, {\"color\": \"#3449eb\", \"font\": {\"color\": \"white\"}, \"id\": \"Sales Manager\", \"label\": \"Sales Manager\", \"shape\": \"dot\", \"size\": 23, \"title\": \"\\u003cb\\u003e23 connections\\u003c/b\\u003e\"}, {\"color\": \"#3449eb\", \"font\": {\"color\": \"white\"}, \"id\": \"Project Engineer\", \"label\": \"Project Engineer\", \"shape\": \"dot\", \"size\": 21, \"title\": \"\\u003cb\\u003e21 connections\\u003c/b\\u003e\"}, {\"color\": \"#3449eb\", \"font\": {\"color\": \"white\"}, \"id\": \"Project Manager\", \"label\": \"Project Manager\", \"shape\": \"dot\", \"size\": 21, \"title\": \"\\u003cb\\u003e21 connections\\u003c/b\\u003e\"}, {\"color\": \"#3449eb\", \"font\": {\"color\": \"white\"}, \"id\": \"Business Development Manager\", \"label\": \"Business Development Manager\", \"shape\": \"dot\", \"size\": 21, \"title\": \"\\u003cb\\u003e21 connections\\u003c/b\\u003e\"}, {\"color\": \"#3449eb\", \"font\": {\"color\": \"white\"}, \"id\": \"CEO\", \"label\": \"CEO\", \"shape\": \"dot\", \"size\": 21, \"title\": \"\\u003cb\\u003e21 connections\\u003c/b\\u003e\"}, {\"color\": \"#3449eb\", \"font\": {\"color\": \"white\"}, \"id\": \"Human Resources Manager\", \"label\": \"Human Resources Manager\", \"shape\": \"dot\", \"size\": 18, \"title\": \"\\u003cb\\u003e18 connections\\u003c/b\\u003e\"}, {\"color\": \"#3449eb\", \"font\": {\"color\": \"white\"}, \"id\": \"Engineer\", \"label\": \"Engineer\", \"shape\": \"dot\", \"size\": 15, \"title\": \"\\u003cb\\u003e15 connections\\u003c/b\\u003e\"}, {\"color\": \"#3449eb\", \"font\": {\"color\": \"white\"}, \"id\": \"HR Manager\", \"label\": \"HR Manager\", \"shape\": \"dot\", \"size\": 14, \"title\": \"\\u003cb\\u003e14 connections\\u003c/b\\u003e\"}, {\"color\": \"#3449eb\", \"font\": {\"color\": \"white\"}, \"id\": \"Senior Consultant\", \"label\": \"Senior Consultant\", \"shape\": \"dot\", \"size\": 13, \"title\": \"\\u003cb\\u003e13 connections\\u003c/b\\u003e\"}, {\"color\": \"#3449eb\", \"font\": {\"color\": \"white\"}, \"id\": \"Senior Engineer\", \"label\": \"Senior Engineer\", \"shape\": \"dot\", \"size\": 13, \"title\": \"\\u003cb\\u003e13 connections\\u003c/b\\u003e\"}, {\"color\": \"#3449eb\", \"font\": {\"color\": \"white\"}, \"id\": \"Co-Founder\", \"label\": \"Co-Founder\", \"shape\": \"dot\", \"size\": 13, \"title\": \"\\u003cb\\u003e13 connections\\u003c/b\\u003e\"}, {\"color\": \"#3449eb\", \"font\": {\"color\": \"white\"}, \"id\": \"General Manager\", \"label\": \"General Manager\", \"shape\": \"dot\", \"size\": 13, \"title\": \"\\u003cb\\u003e13 connections\\u003c/b\\u003e\"}, {\"color\": \"#3449eb\", \"font\": {\"color\": \"white\"}, \"id\": \"Senior Manager\", \"label\": \"Senior Manager\", \"shape\": \"dot\", \"size\": 12, \"title\": \"\\u003cb\\u003e12 connections\\u003c/b\\u003e\"}, {\"color\": \"#3449eb\", \"font\": {\"color\": \"white\"}, \"id\": \"Partner\", \"label\": \"Partner\", \"shape\": \"dot\", \"size\": 12, \"title\": \"\\u003cb\\u003e12 connections\\u003c/b\\u003e\"}, {\"color\": \"#3449eb\", \"font\": {\"color\": \"white\"}, \"id\": \"Chief Executive Officer\", \"label\": \"Chief Executive Officer\", \"shape\": \"dot\", \"size\": 11, \"title\": \"\\u003cb\\u003e11 connections\\u003c/b\\u003e\"}, {\"color\": \"#3449eb\", \"font\": {\"color\": \"white\"}, \"id\": \"Proprietor\", \"label\": \"Proprietor\", \"shape\": \"dot\", \"size\": 10, \"title\": \"\\u003cb\\u003e10 connections\\u003c/b\\u003e\"}, {\"color\": \"#3449eb\", \"font\": {\"color\": \"white\"}, \"id\": \"Site Engineer\", \"label\": \"Site Engineer\", \"shape\": \"dot\", \"size\": 9, \"title\": \"\\u003cb\\u003e9 connections\\u003c/b\\u003e\"}, {\"color\": \"#3449eb\", \"font\": {\"color\": \"white\"}, \"id\": \"Consultant\", \"label\": \"Consultant\", \"shape\": \"dot\", \"size\": 9, \"title\": \"\\u003cb\\u003e9 connections\\u003c/b\\u003e\"}, {\"color\": \"#3449eb\", \"font\": {\"color\": \"white\"}, \"id\": \"Executive Director\", \"label\": \"Executive Director\", \"shape\": \"dot\", \"size\": 9, \"title\": \"\\u003cb\\u003e9 connections\\u003c/b\\u003e\"}, {\"color\": \"#3449eb\", \"font\": {\"color\": \"white\"}, \"id\": \"Deputy General Manager\", \"label\": \"Deputy General Manager\", \"shape\": \"dot\", \"size\": 9, \"title\": \"\\u003cb\\u003e9 connections\\u003c/b\\u003e\"}, {\"color\": \"#3449eb\", \"font\": {\"color\": \"white\"}, \"id\": \"Chief Operating Officer\", \"label\": \"Chief Operating Officer\", \"shape\": \"dot\", \"size\": 8, \"title\": \"\\u003cb\\u003e8 connections\\u003c/b\\u003e\"}, {\"color\": \"#3449eb\", \"font\": {\"color\": \"white\"}, \"id\": \"Marketing Manager\", \"label\": \"Marketing Manager\", \"shape\": \"dot\", \"size\": 8, \"title\": \"\\u003cb\\u003e8 connections\\u003c/b\\u003e\"}, {\"color\": \"#3449eb\", \"font\": {\"color\": \"white\"}, \"id\": \"Executive\", \"label\": \"Executive\", \"shape\": \"dot\", \"size\": 7, \"title\": \"\\u003cb\\u003e7 connections\\u003c/b\\u003e\"}, {\"color\": \"#3449eb\", \"font\": {\"color\": \"white\"}, \"id\": \"Business Head\", \"label\": \"Business Head\", \"shape\": \"dot\", \"size\": 7, \"title\": \"\\u003cb\\u003e7 connections\\u003c/b\\u003e\"}, {\"color\": \"#3449eb\", \"font\": {\"color\": \"white\"}, \"id\": \"Vice President\", \"label\": \"Vice President\", \"shape\": \"dot\", \"size\": 7, \"title\": \"\\u003cb\\u003e7 connections\\u003c/b\\u003e\"}, {\"color\": \"#3449eb\", \"font\": {\"color\": \"white\"}, \"id\": \"Assistant Professor\", \"label\": \"Assistant Professor\", \"shape\": \"dot\", \"size\": 7, \"title\": \"\\u003cb\\u003e7 connections\\u003c/b\\u003e\"}, {\"color\": \"#3449eb\", \"font\": {\"color\": \"white\"}, \"id\": \"Civil Engineer\", \"label\": \"Civil Engineer\", \"shape\": \"dot\", \"size\": 7, \"title\": \"\\u003cb\\u003e7 connections\\u003c/b\\u003e\"}, {\"color\": \"#3449eb\", \"font\": {\"color\": \"white\"}, \"id\": \"Senior Talent Acquisition Specialist\", \"label\": \"Senior Talent Acquisition Specialist\", \"shape\": \"dot\", \"size\": 7, \"title\": \"\\u003cb\\u003e7 connections\\u003c/b\\u003e\"}, {\"color\": \"#3449eb\", \"font\": {\"color\": \"white\"}, \"id\": \"Data Analyst\", \"label\": \"Data Analyst\", \"shape\": \"dot\", \"size\": 7, \"title\": \"\\u003cb\\u003e7 connections\\u003c/b\\u003e\"}, {\"color\": \"#3449eb\", \"font\": {\"color\": \"white\"}, \"id\": \"Senior Electrical Engineer\", \"label\": \"Senior Electrical Engineer\", \"shape\": \"dot\", \"size\": 7, \"title\": \"\\u003cb\\u003e7 connections\\u003c/b\\u003e\"}, {\"color\": \"#3449eb\", \"font\": {\"color\": \"white\"}, \"id\": \"Recruitment Manager\", \"label\": \"Recruitment Manager\", \"shape\": \"dot\", \"size\": 6, \"title\": \"\\u003cb\\u003e6 connections\\u003c/b\\u003e\"}, {\"color\": \"#3449eb\", \"font\": {\"color\": \"white\"}, \"id\": \"HR Business Partner\", \"label\": \"HR Business Partner\", \"shape\": \"dot\", \"size\": 6, \"title\": \"\\u003cb\\u003e6 connections\\u003c/b\\u003e\"}, {\"color\": \"#3449eb\", \"font\": {\"color\": \"white\"}, \"id\": \"Senior Project Engineer\", \"label\": \"Senior Project Engineer\", \"shape\": \"dot\", \"size\": 6, \"title\": \"\\u003cb\\u003e6 connections\\u003c/b\\u003e\"}, {\"color\": \"#3449eb\", \"font\": {\"color\": \"white\"}, \"id\": \"Senior Project Manager\", \"label\": \"Senior Project Manager\", \"shape\": \"dot\", \"size\": 6, \"title\": \"\\u003cb\\u003e6 connections\\u003c/b\\u003e\"}, {\"color\": \"#3449eb\", \"font\": {\"color\": \"white\"}, \"id\": \"Software Engineer\", \"label\": \"Software Engineer\", \"shape\": \"dot\", \"size\": 6, \"title\": \"\\u003cb\\u003e6 connections\\u003c/b\\u003e\"}, {\"color\": \"#3449eb\", \"font\": {\"color\": \"white\"}, \"id\": \"President\", \"label\": \"President\", \"shape\": \"dot\", \"size\": 6, \"title\": \"\\u003cb\\u003e6 connections\\u003c/b\\u003e\"}, {\"color\": \"#3449eb\", \"font\": {\"color\": \"white\"}, \"id\": \"MD\", \"label\": \"MD\", \"shape\": \"dot\", \"size\": 5, \"title\": \"\\u003cb\\u003e5 connections\\u003c/b\\u003e\"}, {\"color\": \"#3449eb\", \"font\": {\"color\": \"white\"}, \"id\": \"Sr. Manager\", \"label\": \"Sr. Manager\", \"shape\": \"dot\", \"size\": 5, \"title\": \"\\u003cb\\u003e5 connections\\u003c/b\\u003e\"}, {\"color\": \"#3449eb\", \"font\": {\"color\": \"white\"}, \"id\": \"Assistant Manager Human Resources\", \"label\": \"Assistant Manager Human Resources\", \"shape\": \"dot\", \"size\": 5, \"title\": \"\\u003cb\\u003e5 connections\\u003c/b\\u003e\"}, {\"color\": \"#3449eb\", \"font\": {\"color\": \"white\"}, \"id\": \"Tendering Engineer\", \"label\": \"Tendering Engineer\", \"shape\": \"dot\", \"size\": 5, \"title\": \"\\u003cb\\u003e5 connections\\u003c/b\\u003e\"}, {\"color\": \"#3449eb\", \"font\": {\"color\": \"white\"}, \"id\": \"Managing Partner\", \"label\": \"Managing Partner\", \"shape\": \"dot\", \"size\": 5, \"title\": \"\\u003cb\\u003e5 connections\\u003c/b\\u003e\"}, {\"color\": \"#3449eb\", \"font\": {\"color\": \"white\"}, \"id\": \"Assistant General Manager\", \"label\": \"Assistant General Manager\", \"shape\": \"dot\", \"size\": 5, \"title\": \"\\u003cb\\u003e5 connections\\u003c/b\\u003e\"}, {\"color\": \"#3449eb\", \"font\": {\"color\": \"white\"}, \"id\": \"Principal Consultant\", \"label\": \"Principal Consultant\", \"shape\": \"dot\", \"size\": 5, \"title\": \"\\u003cb\\u003e5 connections\\u003c/b\\u003e\"}, {\"color\": \"#3449eb\", \"font\": {\"color\": \"white\"}, \"id\": \"Account Manager\", \"label\": \"Account Manager\", \"shape\": \"dot\", \"size\": 5, \"title\": \"\\u003cb\\u003e5 connections\\u003c/b\\u003e\"}, {\"color\": \"#3449eb\", \"font\": {\"color\": \"white\"}, \"id\": \"Key Account Manager\", \"label\": \"Key Account Manager\", \"shape\": \"dot\", \"size\": 5, \"title\": \"\\u003cb\\u003e5 connections\\u003c/b\\u003e\"}, {\"color\": \"#3449eb\", \"font\": {\"color\": \"white\"}, \"id\": \"Procurement Manager\", \"label\": \"Procurement Manager\", \"shape\": \"dot\", \"size\": 5, \"title\": \"\\u003cb\\u003e5 connections\\u003c/b\\u003e\"}, {\"color\": \"#3449eb\", \"font\": {\"color\": \"white\"}, \"id\": \"Talent Acquisition\", \"label\": \"Talent Acquisition\", \"shape\": \"dot\", \"size\": 5, \"title\": \"\\u003cb\\u003e5 connections\\u003c/b\\u003e\"}, {\"color\": \"#3449eb\", \"font\": {\"color\": \"white\"}, \"id\": \"Purchase Manager\", \"label\": \"Purchase Manager\", \"shape\": \"dot\", \"size\": 5, \"title\": \"\\u003cb\\u003e5 connections\\u003c/b\\u003e\"}]);\n",
       "        edges = new vis.DataSet([{\"color\": \"grey\", \"from\": \"root\", \"to\": \"Director\", \"weight\": 1}, {\"color\": \"grey\", \"from\": \"root\", \"to\": \"Managing Director\", \"weight\": 1}, {\"color\": \"grey\", \"from\": \"root\", \"to\": \"Assistant Manager\", \"weight\": 1}, {\"color\": \"grey\", \"from\": \"root\", \"to\": \"Owner\", \"weight\": 1}, {\"color\": \"grey\", \"from\": \"root\", \"to\": \"Manager\", \"weight\": 1}, {\"color\": \"grey\", \"from\": \"root\", \"to\": \"Deputy Manager\", \"weight\": 1}, {\"color\": \"grey\", \"from\": \"root\", \"to\": \"Founder\", \"weight\": 1}, {\"color\": \"grey\", \"from\": \"root\", \"to\": \"Electrical Engineer\", \"weight\": 1}, {\"color\": \"grey\", \"from\": \"root\", \"to\": \"Sales Manager\", \"weight\": 1}, {\"color\": \"grey\", \"from\": \"root\", \"to\": \"Project Engineer\", \"weight\": 1}, {\"color\": \"grey\", \"from\": \"root\", \"to\": \"Project Manager\", \"weight\": 1}, {\"color\": \"grey\", \"from\": \"root\", \"to\": \"Business Development Manager\", \"weight\": 1}, {\"color\": \"grey\", \"from\": \"root\", \"to\": \"CEO\", \"weight\": 1}, {\"color\": \"grey\", \"from\": \"root\", \"to\": \"Human Resources Manager\", \"weight\": 1}, {\"color\": \"grey\", \"from\": \"root\", \"to\": \"Engineer\", \"weight\": 1}, {\"color\": \"grey\", \"from\": \"root\", \"to\": \"HR Manager\", \"weight\": 1}, {\"color\": \"grey\", \"from\": \"root\", \"to\": \"Senior Consultant\", \"weight\": 1}, {\"color\": \"grey\", \"from\": \"root\", \"to\": \"Senior Engineer\", \"weight\": 1}, {\"color\": \"grey\", \"from\": \"root\", \"to\": \"Co-Founder\", \"weight\": 1}, {\"color\": \"grey\", \"from\": \"root\", \"to\": \"General Manager\", \"weight\": 1}, {\"color\": \"grey\", \"from\": \"root\", \"to\": \"Senior Manager\", \"weight\": 1}, {\"color\": \"grey\", \"from\": \"root\", \"to\": \"Partner\", \"weight\": 1}, {\"color\": \"grey\", \"from\": \"root\", \"to\": \"Chief Executive Officer\", \"weight\": 1}, {\"color\": \"grey\", \"from\": \"root\", \"to\": \"Proprietor\", \"weight\": 1}, {\"color\": \"grey\", \"from\": \"root\", \"to\": \"Site Engineer\", \"weight\": 1}, {\"color\": \"grey\", \"from\": \"root\", \"to\": \"Consultant\", \"weight\": 1}, {\"color\": \"grey\", \"from\": \"root\", \"to\": \"Executive Director\", \"weight\": 1}, {\"color\": \"grey\", \"from\": \"root\", \"to\": \"Deputy General Manager\", \"weight\": 1}, {\"color\": \"grey\", \"from\": \"root\", \"to\": \"Chief Operating Officer\", \"weight\": 1}, {\"color\": \"grey\", \"from\": \"root\", \"to\": \"Marketing Manager\", \"weight\": 1}, {\"color\": \"grey\", \"from\": \"root\", \"to\": \"Executive\", \"weight\": 1}, {\"color\": \"grey\", \"from\": \"root\", \"to\": \"Business Head\", \"weight\": 1}, {\"color\": \"grey\", \"from\": \"root\", \"to\": \"Vice President\", \"weight\": 1}, {\"color\": \"grey\", \"from\": \"root\", \"to\": \"Assistant Professor\", \"weight\": 1}, {\"color\": \"grey\", \"from\": \"root\", \"to\": \"Civil Engineer\", \"weight\": 1}, {\"color\": \"grey\", \"from\": \"root\", \"to\": \"Senior Talent Acquisition Specialist\", \"weight\": 1}, {\"color\": \"grey\", \"from\": \"root\", \"to\": \"Data Analyst\", \"weight\": 1}, {\"color\": \"grey\", \"from\": \"root\", \"to\": \"Senior Electrical Engineer\", \"weight\": 1}, {\"color\": \"grey\", \"from\": \"root\", \"to\": \"Recruitment Manager\", \"weight\": 1}, {\"color\": \"grey\", \"from\": \"root\", \"to\": \"HR Business Partner\", \"weight\": 1}, {\"color\": \"grey\", \"from\": \"root\", \"to\": \"Senior Project Engineer\", \"weight\": 1}, {\"color\": \"grey\", \"from\": \"root\", \"to\": \"Senior Project Manager\", \"weight\": 1}, {\"color\": \"grey\", \"from\": \"root\", \"to\": \"Software Engineer\", \"weight\": 1}, {\"color\": \"grey\", \"from\": \"root\", \"to\": \"President\", \"weight\": 1}, {\"color\": \"grey\", \"from\": \"root\", \"to\": \"MD\", \"weight\": 1}, {\"color\": \"grey\", \"from\": \"root\", \"to\": \"Sr. Manager\", \"weight\": 1}, {\"color\": \"grey\", \"from\": \"root\", \"to\": \"Assistant Manager Human Resources\", \"weight\": 1}, {\"color\": \"grey\", \"from\": \"root\", \"to\": \"Tendering Engineer\", \"weight\": 1}, {\"color\": \"grey\", \"from\": \"root\", \"to\": \"Managing Partner\", \"weight\": 1}, {\"color\": \"grey\", \"from\": \"root\", \"to\": \"Assistant General Manager\", \"weight\": 1}, {\"color\": \"grey\", \"from\": \"root\", \"to\": \"Principal Consultant\", \"weight\": 1}, {\"color\": \"grey\", \"from\": \"root\", \"to\": \"Account Manager\", \"weight\": 1}, {\"color\": \"grey\", \"from\": \"root\", \"to\": \"Key Account Manager\", \"weight\": 1}, {\"color\": \"grey\", \"from\": \"root\", \"to\": \"Procurement Manager\", \"weight\": 1}, {\"color\": \"grey\", \"from\": \"root\", \"to\": \"Talent Acquisition\", \"weight\": 1}, {\"color\": \"grey\", \"from\": \"root\", \"to\": \"Purchase Manager\", \"weight\": 1}]);\n",
       "\n",
       "        // adding nodes and edges to the graph\n",
       "        data = {nodes: nodes, edges: edges};\n",
       "\n",
       "        var options = {\n",
       "    \"configure\": {\n",
       "        \"enabled\": false\n",
       "    },\n",
       "    \"edges\": {\n",
       "        \"color\": {\n",
       "            \"inherit\": true\n",
       "        },\n",
       "        \"smooth\": {\n",
       "            \"enabled\": false,\n",
       "            \"type\": \"continuous\"\n",
       "        }\n",
       "    },\n",
       "    \"interaction\": {\n",
       "        \"dragNodes\": true,\n",
       "        \"hideEdgesOnDrag\": false,\n",
       "        \"hideNodesOnDrag\": false\n",
       "    },\n",
       "    \"physics\": {\n",
       "        \"enabled\": true,\n",
       "        \"hierarchicalRepulsion\": {\n",
       "            \"centralGravity\": 0.0,\n",
       "            \"damping\": 0.09,\n",
       "            \"nodeDistance\": 120,\n",
       "            \"springConstant\": 0.01,\n",
       "            \"springLength\": 100\n",
       "        },\n",
       "        \"solver\": \"hierarchicalRepulsion\",\n",
       "        \"stabilization\": {\n",
       "            \"enabled\": true,\n",
       "            \"fit\": true,\n",
       "            \"iterations\": 1000,\n",
       "            \"onlyDynamicEdges\": false,\n",
       "            \"updateInterval\": 50\n",
       "        }\n",
       "    }\n",
       "};\n",
       "        \n",
       "        \n",
       "\n",
       "        \n",
       "\n",
       "        network = new vis.Network(container, data, options);\n",
       "\t \n",
       "        \n",
       "\n",
       "\n",
       "        \n",
       "\n",
       "        return network;\n",
       "\n",
       "    }\n",
       "\n",
       "    drawGraph();\n",
       "\n",
       "</script>\n",
       "</body>\n",
       "</html>"
      ],
      "text/plain": [
       "<IPython.core.display.HTML object>"
      ]
     },
     "metadata": {},
     "output_type": "display_data"
    }
   ],
   "source": [
    "# initialize graph\n",
    "g = nx.Graph()\n",
    "g.add_node('root') # intialize yourself as central\n",
    "\n",
    "# use iterrows tp iterate through the data frame\n",
    "for _, row in df_position_reduced.iterrows():\n",
    "\n",
    "  count = f\"{row['count']}\"\n",
    "  position= row['position']\n",
    "\n",
    "  title = f\"<b>{count} connections</b>\"\n",
    "  \n",
    "  g.add_node(position, size=count, color='#3449eb', title=title)\n",
    "  g.add_edge('root', position, color='grey')\n",
    "\n",
    "# generate the graph\n",
    "nt = net.Network(height='700px', width='700px', bgcolor=\"black\", font_color='white')\n",
    "nt.from_nx(g)\n",
    "nt.hrepulsion()\n",
    "nt.show('position_graph.html')\n",
    "display(HTML('position_graph.html'))"
   ]
  },
  {
   "cell_type": "markdown",
   "metadata": {
    "id": "Uwj5nrPzq8VQ"
   },
   "source": [
    "## Publish to datapane"
   ]
  },
  {
   "cell_type": "code",
   "execution_count": 18,
   "metadata": {
    "id": "N13ismKPVLt3"
   },
   "outputs": [],
   "source": [
    "def read_html(name: str):\n",
    "    import codecs\n",
    "    f = codecs.open(name, 'r')\n",
    "    return f.read()"
   ]
  },
  {
   "cell_type": "code",
   "execution_count": 20,
   "metadata": {
    "colab": {
     "base_uri": "https://localhost:8080/"
    },
    "id": "jj_IhytvrCfS",
    "outputId": "82025942-29e5-46f9-84ba-fe35a5b3b7e5"
   },
   "outputs": [],
   "source": [
    "#!pip install jupyter-client==6.1.5 datapane --quiet\n",
    "import datapane as dp"
   ]
  },
  {
   "cell_type": "code",
   "execution_count": 44,
   "metadata": {
    "id": "QbQ1wpjGzMaS"
   },
   "outputs": [],
   "source": [
    "# Signup usinn link and enter token id in next block of code.\n",
    "# !datapane signup"
   ]
  },
  {
   "cell_type": "code",
   "execution_count": 21,
   "metadata": {
    "colab": {
     "base_uri": "https://localhost:8080/"
    },
    "id": "GyBvn9-7rEw2",
    "outputId": "c94350ff-f121-4bea-f90c-6d0906feb3ef"
   },
   "outputs": [
    {
     "name": "stdout",
     "output_type": "stream",
     "text": [
      "Connected successfully to https://datapane.com as mgupta\n"
     ]
    }
   ],
   "source": [
    "!datapane login --token=''"
   ]
  },
  {
   "cell_type": "code",
   "execution_count": 22,
   "metadata": {
    "colab": {
     "base_uri": "https://localhost:8080/"
    },
    "id": "g3Vz1K0Jq9vA",
    "outputId": "a7c55a92-a440-4450-edfc-9433448de494"
   },
   "outputs": [
    {
     "data": {
      "text/markdown": [
       "Uploading report and associated data - *please wait...*"
      ],
      "text/plain": [
       "<IPython.core.display.Markdown object>"
      ]
     },
     "metadata": {},
     "output_type": "display_data"
    },
    {
     "data": {
      "text/markdown": [
       "Your report only contains a single element - did you know you can include additional plots, tables and text in a single report? Check out [the docs](https://docs.datapane.com/reports/blocks/layout-pages-and-selects) for more info"
      ],
      "text/plain": [
       "<IPython.core.display.Markdown object>"
      ]
     },
     "metadata": {},
     "output_type": "display_data"
    },
    {
     "data": {
      "text/markdown": [
       "Report successfully uploaded, click [here](https://datapane.com/u/mgupta/reports/J35lWVA/linkedin-connection-company/) to view and share your report."
      ],
      "text/plain": [
       "<IPython.core.display.Markdown object>"
      ]
     },
     "metadata": {},
     "output_type": "display_data"
    },
    {
     "data": {
      "text/markdown": [
       "Uploading report and associated data - *please wait...*"
      ],
      "text/plain": [
       "<IPython.core.display.Markdown object>"
      ]
     },
     "metadata": {},
     "output_type": "display_data"
    },
    {
     "data": {
      "text/markdown": [
       "Your report only contains a single element - did you know you can include additional plots, tables and text in a single report? Check out [the docs](https://docs.datapane.com/reports/blocks/layout-pages-and-selects) for more info"
      ],
      "text/plain": [
       "<IPython.core.display.Markdown object>"
      ]
     },
     "metadata": {},
     "output_type": "display_data"
    },
    {
     "data": {
      "text/markdown": [
       "Report successfully uploaded, click [here](https://datapane.com/u/mgupta/reports/j3LQnv7/linkedin-connection-positions/) to view and share your report."
      ],
      "text/plain": [
       "<IPython.core.display.Markdown object>"
      ]
     },
     "metadata": {},
     "output_type": "display_data"
    }
   ],
   "source": [
    "report_company = dp.Report(dp.HTML(read_html('company_graph.html'))) \n",
    "report_position = dp.Report(dp.HTML(read_html('position_graph.html')))\n",
    "\n",
    "report_company.upload(name='LinkedIn_connection_Company')\n",
    "report_position.upload(name='LinkedIn_connection_Positions')"
   ]
  },
  {
   "cell_type": "code",
   "execution_count": null,
   "metadata": {
    "id": "3F-XnKf0sC25"
   },
   "outputs": [],
   "source": []
  }
 ],
 "metadata": {
  "colab": {
   "collapsed_sections": [],
   "name": "Copy of Visualize Linkedin Network.ipynb",
   "provenance": []
  },
  "kernelspec": {
   "display_name": "Python 3",
   "language": "python",
   "name": "python3"
  },
  "language_info": {
   "codemirror_mode": {
    "name": "ipython",
    "version": 3
   },
   "file_extension": ".py",
   "mimetype": "text/x-python",
   "name": "python",
   "nbconvert_exporter": "python",
   "pygments_lexer": "ipython3",
   "version": "3.8.8"
  }
 },
 "nbformat": 4,
 "nbformat_minor": 1
}
